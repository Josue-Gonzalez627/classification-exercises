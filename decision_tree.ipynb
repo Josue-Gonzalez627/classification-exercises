{
 "cells": [
  {
   "cell_type": "markdown",
   "id": "1ad68158-6d4b-4036-a360-7bb8009ff096",
   "metadata": {},
   "source": [
    "# Decision Tree Exercises"
   ]
  },
  {
   "cell_type": "code",
   "execution_count": 6,
   "id": "1278ee92-ac8f-41b1-a47c-249472e15c26",
   "metadata": {
    "tags": []
   },
   "outputs": [],
   "source": [
    "#data manipulation\n",
    "import pandas as pd\n",
    "import numpy as np\n",
    "\n",
    "#visualization\n",
    "import matplotlib.pyplot as plt\n",
    "import seaborn as sns\n",
    "\n",
    "#stats is great\n",
    "from scipy import stats\n",
    "\n",
    "#my own files with my own functions\n",
    "import acquire\n",
    "import prepare\n",
    "\n",
    "# os is operating system stuff, few things I know\n",
    "# env is my py file to access SQL databases\n",
    "import os\n",
    "import env\n",
    "\n",
    "# If I decide to retrieve other datasets but they'll be raw\n",
    "from pydataset import data\n",
    "\n",
    "# ML stuff: (modeling imports)\n",
    "from sklearn.model_selection import train_test_split\n",
    "\n",
    "# The big 4 for classification\n",
    "from sklearn.tree import DecisionTreeClassifier, export_text, plot_tree\n",
    "from sklearn.ensemble import RandomForestClassifier\n",
    "from sklearn.linear_model import LogisticRegression #logistic not linear!\n",
    "from sklearn.neighbors import KNeighborsClassifier #pick the classifier one\n",
    "\n",
    "# Evaluation metrics\n",
    "from sklearn.metrics import accuracy_score\n",
    "from sklearn.metrics import classification_report\n",
    "from sklearn.metrics import confusion_matrix"
   ]
  },
  {
   "cell_type": "markdown",
   "id": "69ffe715-73f1-4357-8639-27a536082f4b",
   "metadata": {
    "tags": []
   },
   "source": [
    "Using the `titanic data`, in your classification-exercises repository, create a notebook, `decision_tree.ipynb` where you will do the following:"
   ]
  },
  {
   "cell_type": "code",
   "execution_count": 7,
   "id": "aae7f6dc-8ddd-4a86-95d4-26560bbc7319",
   "metadata": {
    "tags": []
   },
   "outputs": [
    {
     "name": "stdout",
     "output_type": "stream",
     "text": [
      "this file exists, reading csv\n"
     ]
    },
    {
     "data": {
      "text/html": [
       "<div>\n",
       "<style scoped>\n",
       "    .dataframe tbody tr th:only-of-type {\n",
       "        vertical-align: middle;\n",
       "    }\n",
       "\n",
       "    .dataframe tbody tr th {\n",
       "        vertical-align: top;\n",
       "    }\n",
       "\n",
       "    .dataframe thead th {\n",
       "        text-align: right;\n",
       "    }\n",
       "</style>\n",
       "<table border=\"1\" class=\"dataframe\">\n",
       "  <thead>\n",
       "    <tr style=\"text-align: right;\">\n",
       "      <th></th>\n",
       "      <th>passenger_id</th>\n",
       "      <th>survived</th>\n",
       "      <th>pclass</th>\n",
       "      <th>sex</th>\n",
       "      <th>age</th>\n",
       "      <th>sibsp</th>\n",
       "      <th>parch</th>\n",
       "      <th>fare</th>\n",
       "      <th>embarked</th>\n",
       "      <th>class</th>\n",
       "      <th>deck</th>\n",
       "      <th>embark_town</th>\n",
       "      <th>alone</th>\n",
       "    </tr>\n",
       "  </thead>\n",
       "  <tbody>\n",
       "    <tr>\n",
       "      <th>0</th>\n",
       "      <td>0</td>\n",
       "      <td>0</td>\n",
       "      <td>3</td>\n",
       "      <td>male</td>\n",
       "      <td>22.0</td>\n",
       "      <td>1</td>\n",
       "      <td>0</td>\n",
       "      <td>7.2500</td>\n",
       "      <td>S</td>\n",
       "      <td>Third</td>\n",
       "      <td>NaN</td>\n",
       "      <td>Southampton</td>\n",
       "      <td>0</td>\n",
       "    </tr>\n",
       "    <tr>\n",
       "      <th>1</th>\n",
       "      <td>1</td>\n",
       "      <td>1</td>\n",
       "      <td>1</td>\n",
       "      <td>female</td>\n",
       "      <td>38.0</td>\n",
       "      <td>1</td>\n",
       "      <td>0</td>\n",
       "      <td>71.2833</td>\n",
       "      <td>C</td>\n",
       "      <td>First</td>\n",
       "      <td>C</td>\n",
       "      <td>Cherbourg</td>\n",
       "      <td>0</td>\n",
       "    </tr>\n",
       "    <tr>\n",
       "      <th>2</th>\n",
       "      <td>2</td>\n",
       "      <td>1</td>\n",
       "      <td>3</td>\n",
       "      <td>female</td>\n",
       "      <td>26.0</td>\n",
       "      <td>0</td>\n",
       "      <td>0</td>\n",
       "      <td>7.9250</td>\n",
       "      <td>S</td>\n",
       "      <td>Third</td>\n",
       "      <td>NaN</td>\n",
       "      <td>Southampton</td>\n",
       "      <td>1</td>\n",
       "    </tr>\n",
       "    <tr>\n",
       "      <th>3</th>\n",
       "      <td>3</td>\n",
       "      <td>1</td>\n",
       "      <td>1</td>\n",
       "      <td>female</td>\n",
       "      <td>35.0</td>\n",
       "      <td>1</td>\n",
       "      <td>0</td>\n",
       "      <td>53.1000</td>\n",
       "      <td>S</td>\n",
       "      <td>First</td>\n",
       "      <td>C</td>\n",
       "      <td>Southampton</td>\n",
       "      <td>0</td>\n",
       "    </tr>\n",
       "    <tr>\n",
       "      <th>4</th>\n",
       "      <td>4</td>\n",
       "      <td>0</td>\n",
       "      <td>3</td>\n",
       "      <td>male</td>\n",
       "      <td>35.0</td>\n",
       "      <td>0</td>\n",
       "      <td>0</td>\n",
       "      <td>8.0500</td>\n",
       "      <td>S</td>\n",
       "      <td>Third</td>\n",
       "      <td>NaN</td>\n",
       "      <td>Southampton</td>\n",
       "      <td>1</td>\n",
       "    </tr>\n",
       "  </tbody>\n",
       "</table>\n",
       "</div>"
      ],
      "text/plain": [
       "   passenger_id  survived  pclass     sex   age  sibsp  parch     fare  \\\n",
       "0             0         0       3    male  22.0      1      0   7.2500   \n",
       "1             1         1       1  female  38.0      1      0  71.2833   \n",
       "2             2         1       3  female  26.0      0      0   7.9250   \n",
       "3             3         1       1  female  35.0      1      0  53.1000   \n",
       "4             4         0       3    male  35.0      0      0   8.0500   \n",
       "\n",
       "  embarked  class deck  embark_town  alone  \n",
       "0        S  Third  NaN  Southampton      0  \n",
       "1        C  First    C    Cherbourg      0  \n",
       "2        S  Third  NaN  Southampton      1  \n",
       "3        S  First    C  Southampton      0  \n",
       "4        S  Third  NaN  Southampton      1  "
      ]
     },
     "execution_count": 7,
     "metadata": {},
     "output_type": "execute_result"
    }
   ],
   "source": [
    "df = acquire.get_titanic_data()\n",
    "df.head()"
   ]
  },
  {
   "cell_type": "code",
   "execution_count": 8,
   "id": "c7ea993f-73b7-4fdc-8403-230f831e307f",
   "metadata": {
    "tags": []
   },
   "outputs": [
    {
     "data": {
      "text/html": [
       "<div>\n",
       "<style scoped>\n",
       "    .dataframe tbody tr th:only-of-type {\n",
       "        vertical-align: middle;\n",
       "    }\n",
       "\n",
       "    .dataframe tbody tr th {\n",
       "        vertical-align: top;\n",
       "    }\n",
       "\n",
       "    .dataframe thead th {\n",
       "        text-align: right;\n",
       "    }\n",
       "</style>\n",
       "<table border=\"1\" class=\"dataframe\">\n",
       "  <thead>\n",
       "    <tr style=\"text-align: right;\">\n",
       "      <th></th>\n",
       "      <th>passenger_id</th>\n",
       "      <th>survived</th>\n",
       "      <th>pclass</th>\n",
       "      <th>sex</th>\n",
       "      <th>age</th>\n",
       "      <th>sibsp</th>\n",
       "      <th>parch</th>\n",
       "      <th>fare</th>\n",
       "      <th>embark_town</th>\n",
       "      <th>alone</th>\n",
       "    </tr>\n",
       "  </thead>\n",
       "  <tbody>\n",
       "    <tr>\n",
       "      <th>0</th>\n",
       "      <td>0</td>\n",
       "      <td>0</td>\n",
       "      <td>3</td>\n",
       "      <td>male</td>\n",
       "      <td>22.0</td>\n",
       "      <td>1</td>\n",
       "      <td>0</td>\n",
       "      <td>7.2500</td>\n",
       "      <td>Southampton</td>\n",
       "      <td>0</td>\n",
       "    </tr>\n",
       "    <tr>\n",
       "      <th>1</th>\n",
       "      <td>1</td>\n",
       "      <td>1</td>\n",
       "      <td>1</td>\n",
       "      <td>female</td>\n",
       "      <td>38.0</td>\n",
       "      <td>1</td>\n",
       "      <td>0</td>\n",
       "      <td>71.2833</td>\n",
       "      <td>Cherbourg</td>\n",
       "      <td>0</td>\n",
       "    </tr>\n",
       "    <tr>\n",
       "      <th>2</th>\n",
       "      <td>2</td>\n",
       "      <td>1</td>\n",
       "      <td>3</td>\n",
       "      <td>female</td>\n",
       "      <td>26.0</td>\n",
       "      <td>0</td>\n",
       "      <td>0</td>\n",
       "      <td>7.9250</td>\n",
       "      <td>Southampton</td>\n",
       "      <td>1</td>\n",
       "    </tr>\n",
       "    <tr>\n",
       "      <th>3</th>\n",
       "      <td>3</td>\n",
       "      <td>1</td>\n",
       "      <td>1</td>\n",
       "      <td>female</td>\n",
       "      <td>35.0</td>\n",
       "      <td>1</td>\n",
       "      <td>0</td>\n",
       "      <td>53.1000</td>\n",
       "      <td>Southampton</td>\n",
       "      <td>0</td>\n",
       "    </tr>\n",
       "    <tr>\n",
       "      <th>4</th>\n",
       "      <td>4</td>\n",
       "      <td>0</td>\n",
       "      <td>3</td>\n",
       "      <td>male</td>\n",
       "      <td>35.0</td>\n",
       "      <td>0</td>\n",
       "      <td>0</td>\n",
       "      <td>8.0500</td>\n",
       "      <td>Southampton</td>\n",
       "      <td>1</td>\n",
       "    </tr>\n",
       "  </tbody>\n",
       "</table>\n",
       "</div>"
      ],
      "text/plain": [
       "   passenger_id  survived pclass     sex   age  sibsp  parch     fare  \\\n",
       "0             0         0      3    male  22.0      1      0   7.2500   \n",
       "1             1         1      1  female  38.0      1      0  71.2833   \n",
       "2             2         1      3  female  26.0      0      0   7.9250   \n",
       "3             3         1      1  female  35.0      1      0  53.1000   \n",
       "4             4         0      3    male  35.0      0      0   8.0500   \n",
       "\n",
       "   embark_town  alone  \n",
       "0  Southampton      0  \n",
       "1    Cherbourg      0  \n",
       "2  Southampton      1  \n",
       "3  Southampton      0  \n",
       "4  Southampton      1  "
      ]
     },
     "execution_count": 8,
     "metadata": {},
     "output_type": "execute_result"
    }
   ],
   "source": [
    "df = prepare.clean_titanic(df)\n",
    "df.head()"
   ]
  },
  {
   "cell_type": "code",
   "execution_count": 9,
   "id": "82f6c8ce-9f88-4e97-9505-f5c2a63b053d",
   "metadata": {
    "tags": []
   },
   "outputs": [
    {
     "name": "stdout",
     "output_type": "stream",
     "text": [
      "(427, 10)\n",
      "(142, 10)\n",
      "(143, 10)\n"
     ]
    },
    {
     "data": {
      "text/html": [
       "<div>\n",
       "<style scoped>\n",
       "    .dataframe tbody tr th:only-of-type {\n",
       "        vertical-align: middle;\n",
       "    }\n",
       "\n",
       "    .dataframe tbody tr th {\n",
       "        vertical-align: top;\n",
       "    }\n",
       "\n",
       "    .dataframe thead th {\n",
       "        text-align: right;\n",
       "    }\n",
       "</style>\n",
       "<table border=\"1\" class=\"dataframe\">\n",
       "  <thead>\n",
       "    <tr style=\"text-align: right;\">\n",
       "      <th></th>\n",
       "      <th>passenger_id</th>\n",
       "      <th>survived</th>\n",
       "      <th>pclass</th>\n",
       "      <th>sex</th>\n",
       "      <th>age</th>\n",
       "      <th>sibsp</th>\n",
       "      <th>parch</th>\n",
       "      <th>fare</th>\n",
       "      <th>embark_town</th>\n",
       "      <th>alone</th>\n",
       "    </tr>\n",
       "  </thead>\n",
       "  <tbody>\n",
       "    <tr>\n",
       "      <th>702</th>\n",
       "      <td>702</td>\n",
       "      <td>0</td>\n",
       "      <td>3</td>\n",
       "      <td>female</td>\n",
       "      <td>18.0</td>\n",
       "      <td>0</td>\n",
       "      <td>1</td>\n",
       "      <td>14.4542</td>\n",
       "      <td>Cherbourg</td>\n",
       "      <td>0</td>\n",
       "    </tr>\n",
       "    <tr>\n",
       "      <th>199</th>\n",
       "      <td>199</td>\n",
       "      <td>0</td>\n",
       "      <td>2</td>\n",
       "      <td>female</td>\n",
       "      <td>24.0</td>\n",
       "      <td>0</td>\n",
       "      <td>0</td>\n",
       "      <td>13.0000</td>\n",
       "      <td>Southampton</td>\n",
       "      <td>1</td>\n",
       "    </tr>\n",
       "    <tr>\n",
       "      <th>108</th>\n",
       "      <td>108</td>\n",
       "      <td>0</td>\n",
       "      <td>3</td>\n",
       "      <td>male</td>\n",
       "      <td>38.0</td>\n",
       "      <td>0</td>\n",
       "      <td>0</td>\n",
       "      <td>7.8958</td>\n",
       "      <td>Southampton</td>\n",
       "      <td>1</td>\n",
       "    </tr>\n",
       "    <tr>\n",
       "      <th>872</th>\n",
       "      <td>872</td>\n",
       "      <td>0</td>\n",
       "      <td>1</td>\n",
       "      <td>male</td>\n",
       "      <td>33.0</td>\n",
       "      <td>0</td>\n",
       "      <td>0</td>\n",
       "      <td>5.0000</td>\n",
       "      <td>Southampton</td>\n",
       "      <td>1</td>\n",
       "    </tr>\n",
       "    <tr>\n",
       "      <th>827</th>\n",
       "      <td>827</td>\n",
       "      <td>1</td>\n",
       "      <td>2</td>\n",
       "      <td>male</td>\n",
       "      <td>1.0</td>\n",
       "      <td>0</td>\n",
       "      <td>2</td>\n",
       "      <td>37.0042</td>\n",
       "      <td>Cherbourg</td>\n",
       "      <td>0</td>\n",
       "    </tr>\n",
       "  </tbody>\n",
       "</table>\n",
       "</div>"
      ],
      "text/plain": [
       "     passenger_id  survived pclass     sex   age  sibsp  parch     fare  \\\n",
       "702           702         0      3  female  18.0      0      1  14.4542   \n",
       "199           199         0      2  female  24.0      0      0  13.0000   \n",
       "108           108         0      3    male  38.0      0      0   7.8958   \n",
       "872           872         0      1    male  33.0      0      0   5.0000   \n",
       "827           827         1      2    male   1.0      0      2  37.0042   \n",
       "\n",
       "     embark_town  alone  \n",
       "702    Cherbourg      0  \n",
       "199  Southampton      1  \n",
       "108  Southampton      1  \n",
       "872  Southampton      1  \n",
       "827    Cherbourg      0  "
      ]
     },
     "execution_count": 9,
     "metadata": {},
     "output_type": "execute_result"
    }
   ],
   "source": [
    "train, validate, test = prepare.splitting_data(df, 'survived', seed=123)\n",
    "\n",
    "print(train.shape)\n",
    "print(validate.shape)\n",
    "print(test.shape)\n",
    "train.head()"
   ]
  },
  {
   "cell_type": "code",
   "execution_count": 10,
   "id": "1ed203e3-fcc5-42cc-b384-54febca7084b",
   "metadata": {
    "tags": []
   },
   "outputs": [],
   "source": [
    "def preprocess_titanic(train_df, val_df, test_df):\n",
    "    '''\n",
    "    preprocess_titanic will take our 3 split df I did from the Titanic,\n",
    "    which are clean also (see documentation on acquire.py and prepare.py)\n",
    "    \n",
    "    output:\n",
    "    encoded, ML-ready versions of our clean data, with the sex and embark_town\n",
    "    columns fully encoded in the one-hot fashion return: (pd.DataFrame, pd.DataFrame, pd.DataFrame)\n",
    "    we get three df's basically.\n",
    "    '''\n",
    "    # with a looping structure:\n",
    "    # for df in [train_df, val_df, test_df]:\n",
    "    #    df.drop(blah blah blah)\n",
    "    #    df['plcass'] = df['pclass'].astype(int)\n",
    "    train_df = train_df.drop(columns = 'passenger_id')\n",
    "    train_df['pclass'] = train_df['pclass'].astype(int)\n",
    "    \n",
    "    val_df = val_df.drop(columns = 'passenger_id')\n",
    "    val_df['pclass'] = val_df['pclass'].astype(int)\n",
    "    \n",
    "    test_df = test_df.drop(columns = 'passenger_id')\n",
    "    test_df['pclass'] = test_df['pclass'].astype(int)\n",
    "    \n",
    "    encoding_var = ['sex', 'embark_town']\n",
    "    encoded_dfs = []\n",
    "    for df in [train_df, val_df, test_df]:\n",
    "        df_encoded_cats = pd.get_dummies(\n",
    "            df[encoding_var], drop_first = True).astype(int)\n",
    "        encoded_dfs.append(pd.concat(\n",
    "            [df, df_encoded_cats], axis=1).drop(columns = encoding_var))\n",
    "    return encoded_dfs"
   ]
  },
  {
   "cell_type": "code",
   "execution_count": 11,
   "id": "9a09d9ff-2327-4f75-afa6-d0b71dfb3091",
   "metadata": {
    "tags": []
   },
   "outputs": [
    {
     "data": {
      "text/html": [
       "<div>\n",
       "<style scoped>\n",
       "    .dataframe tbody tr th:only-of-type {\n",
       "        vertical-align: middle;\n",
       "    }\n",
       "\n",
       "    .dataframe tbody tr th {\n",
       "        vertical-align: top;\n",
       "    }\n",
       "\n",
       "    .dataframe thead th {\n",
       "        text-align: right;\n",
       "    }\n",
       "</style>\n",
       "<table border=\"1\" class=\"dataframe\">\n",
       "  <thead>\n",
       "    <tr style=\"text-align: right;\">\n",
       "      <th></th>\n",
       "      <th>survived</th>\n",
       "      <th>pclass</th>\n",
       "      <th>age</th>\n",
       "      <th>sibsp</th>\n",
       "      <th>parch</th>\n",
       "      <th>fare</th>\n",
       "      <th>alone</th>\n",
       "      <th>sex_male</th>\n",
       "      <th>embark_town_Queenstown</th>\n",
       "      <th>embark_town_Southampton</th>\n",
       "    </tr>\n",
       "  </thead>\n",
       "  <tbody>\n",
       "    <tr>\n",
       "      <th>702</th>\n",
       "      <td>0</td>\n",
       "      <td>3</td>\n",
       "      <td>18.0</td>\n",
       "      <td>0</td>\n",
       "      <td>1</td>\n",
       "      <td>14.4542</td>\n",
       "      <td>0</td>\n",
       "      <td>0</td>\n",
       "      <td>0</td>\n",
       "      <td>0</td>\n",
       "    </tr>\n",
       "    <tr>\n",
       "      <th>199</th>\n",
       "      <td>0</td>\n",
       "      <td>2</td>\n",
       "      <td>24.0</td>\n",
       "      <td>0</td>\n",
       "      <td>0</td>\n",
       "      <td>13.0000</td>\n",
       "      <td>1</td>\n",
       "      <td>0</td>\n",
       "      <td>0</td>\n",
       "      <td>1</td>\n",
       "    </tr>\n",
       "    <tr>\n",
       "      <th>108</th>\n",
       "      <td>0</td>\n",
       "      <td>3</td>\n",
       "      <td>38.0</td>\n",
       "      <td>0</td>\n",
       "      <td>0</td>\n",
       "      <td>7.8958</td>\n",
       "      <td>1</td>\n",
       "      <td>1</td>\n",
       "      <td>0</td>\n",
       "      <td>1</td>\n",
       "    </tr>\n",
       "    <tr>\n",
       "      <th>872</th>\n",
       "      <td>0</td>\n",
       "      <td>1</td>\n",
       "      <td>33.0</td>\n",
       "      <td>0</td>\n",
       "      <td>0</td>\n",
       "      <td>5.0000</td>\n",
       "      <td>1</td>\n",
       "      <td>1</td>\n",
       "      <td>0</td>\n",
       "      <td>1</td>\n",
       "    </tr>\n",
       "    <tr>\n",
       "      <th>827</th>\n",
       "      <td>1</td>\n",
       "      <td>2</td>\n",
       "      <td>1.0</td>\n",
       "      <td>0</td>\n",
       "      <td>2</td>\n",
       "      <td>37.0042</td>\n",
       "      <td>0</td>\n",
       "      <td>1</td>\n",
       "      <td>0</td>\n",
       "      <td>0</td>\n",
       "    </tr>\n",
       "  </tbody>\n",
       "</table>\n",
       "</div>"
      ],
      "text/plain": [
       "     survived  pclass   age  sibsp  parch     fare  alone  sex_male  \\\n",
       "702         0       3  18.0      0      1  14.4542      0         0   \n",
       "199         0       2  24.0      0      0  13.0000      1         0   \n",
       "108         0       3  38.0      0      0   7.8958      1         1   \n",
       "872         0       1  33.0      0      0   5.0000      1         1   \n",
       "827         1       2   1.0      0      2  37.0042      0         1   \n",
       "\n",
       "     embark_town_Queenstown  embark_town_Southampton  \n",
       "702                       0                        0  \n",
       "199                       0                        1  \n",
       "108                       0                        1  \n",
       "872                       0                        1  \n",
       "827                       0                        0  "
      ]
     },
     "execution_count": 11,
     "metadata": {},
     "output_type": "execute_result"
    }
   ],
   "source": [
    "train, validate, test = preprocess_titanic(train, validate, test)\n",
    "train.head()"
   ]
  },
  {
   "cell_type": "code",
   "execution_count": 12,
   "id": "12fe0fb9-8d0b-4d88-939d-37bed150b503",
   "metadata": {
    "tags": []
   },
   "outputs": [
    {
     "data": {
      "text/plain": [
       "survived                     int64\n",
       "pclass                       int64\n",
       "age                        float64\n",
       "sibsp                        int64\n",
       "parch                        int64\n",
       "fare                       float64\n",
       "alone                        int64\n",
       "sex_male                     int64\n",
       "embark_town_Queenstown       int64\n",
       "embark_town_Southampton      int64\n",
       "dtype: object"
      ]
     },
     "execution_count": 12,
     "metadata": {},
     "output_type": "execute_result"
    }
   ],
   "source": [
    "#all are numerical, clean and fully encoded!\n",
    "train.dtypes "
   ]
  },
  {
   "cell_type": "code",
   "execution_count": 13,
   "id": "9559aa86-a62b-41f9-9fca-43329e78f9a3",
   "metadata": {
    "tags": []
   },
   "outputs": [],
   "source": [
    "### We want everything EXCEPT the target variable\n",
    "X_train = train.drop(columns = 'survived')\n",
    "X_validate = validate.drop(columns = 'survived')\n",
    "X_test = test.drop(columns = 'survived')"
   ]
  },
  {
   "cell_type": "code",
   "execution_count": 14,
   "id": "c814c550-29eb-4e12-841f-1afe1dc39f9f",
   "metadata": {
    "tags": []
   },
   "outputs": [],
   "source": [
    "### We want ONLY the target variable\n",
    "y_train = train.survived\n",
    "y_validate = validate.survived\n",
    "y_test = test.survived"
   ]
  },
  {
   "cell_type": "markdown",
   "id": "af9f1595-57f7-4df3-a2a9-d354caa0ac4b",
   "metadata": {
    "tags": []
   },
   "source": [
    "## 1. What is your baseline prediction? What is your baseline accuracy? remember: your baseline prediction for a classification problem is predicting the most prevelant class in the training dataset (the mode). When you make those predictions, what is your accuracy? This is your baseline accuracy."
   ]
  },
  {
   "cell_type": "code",
   "execution_count": 15,
   "id": "c925d89c-14f4-4615-9b66-f91ba2523f2b",
   "metadata": {
    "tags": []
   },
   "outputs": [
    {
     "data": {
      "text/plain": [
       "0    0\n",
       "Name: survived, dtype: int64"
      ]
     },
     "execution_count": 15,
     "metadata": {},
     "output_type": "execute_result"
    }
   ],
   "source": [
    "### baseline prediction is not surviving (Perished)\n",
    "df.survived.mode()"
   ]
  },
  {
   "cell_type": "code",
   "execution_count": 16,
   "id": "fc14fd21-b86c-45bb-8057-44149a3eb9c5",
   "metadata": {
    "tags": []
   },
   "outputs": [
    {
     "data": {
      "text/plain": [
       "0.5955056179775281"
      ]
     },
     "execution_count": 16,
     "metadata": {},
     "output_type": "execute_result"
    }
   ],
   "source": [
    "### baseline accuracy is ~60%\n",
    "### meaning if we choose the mode, we'd be right 60% of the time\n",
    "(df.survived == 0).mean()"
   ]
  },
  {
   "cell_type": "markdown",
   "id": "5db330e3-4549-4f10-8f80-2f0db5df2fa3",
   "metadata": {},
   "source": [
    "## 2. Fit the decision tree classifier to your training sample and transform (i.e. make predictions on the training sample)"
   ]
  },
  {
   "cell_type": "code",
   "execution_count": 17,
   "id": "31f63365-2644-4fee-b89a-19445f71a935",
   "metadata": {
    "tags": []
   },
   "outputs": [
    {
     "data": {
      "text/html": [
       "<style>#sk-container-id-1 {color: black;}#sk-container-id-1 pre{padding: 0;}#sk-container-id-1 div.sk-toggleable {background-color: white;}#sk-container-id-1 label.sk-toggleable__label {cursor: pointer;display: block;width: 100%;margin-bottom: 0;padding: 0.3em;box-sizing: border-box;text-align: center;}#sk-container-id-1 label.sk-toggleable__label-arrow:before {content: \"▸\";float: left;margin-right: 0.25em;color: #696969;}#sk-container-id-1 label.sk-toggleable__label-arrow:hover:before {color: black;}#sk-container-id-1 div.sk-estimator:hover label.sk-toggleable__label-arrow:before {color: black;}#sk-container-id-1 div.sk-toggleable__content {max-height: 0;max-width: 0;overflow: hidden;text-align: left;background-color: #f0f8ff;}#sk-container-id-1 div.sk-toggleable__content pre {margin: 0.2em;color: black;border-radius: 0.25em;background-color: #f0f8ff;}#sk-container-id-1 input.sk-toggleable__control:checked~div.sk-toggleable__content {max-height: 200px;max-width: 100%;overflow: auto;}#sk-container-id-1 input.sk-toggleable__control:checked~label.sk-toggleable__label-arrow:before {content: \"▾\";}#sk-container-id-1 div.sk-estimator input.sk-toggleable__control:checked~label.sk-toggleable__label {background-color: #d4ebff;}#sk-container-id-1 div.sk-label input.sk-toggleable__control:checked~label.sk-toggleable__label {background-color: #d4ebff;}#sk-container-id-1 input.sk-hidden--visually {border: 0;clip: rect(1px 1px 1px 1px);clip: rect(1px, 1px, 1px, 1px);height: 1px;margin: -1px;overflow: hidden;padding: 0;position: absolute;width: 1px;}#sk-container-id-1 div.sk-estimator {font-family: monospace;background-color: #f0f8ff;border: 1px dotted black;border-radius: 0.25em;box-sizing: border-box;margin-bottom: 0.5em;}#sk-container-id-1 div.sk-estimator:hover {background-color: #d4ebff;}#sk-container-id-1 div.sk-parallel-item::after {content: \"\";width: 100%;border-bottom: 1px solid gray;flex-grow: 1;}#sk-container-id-1 div.sk-label:hover label.sk-toggleable__label {background-color: #d4ebff;}#sk-container-id-1 div.sk-serial::before {content: \"\";position: absolute;border-left: 1px solid gray;box-sizing: border-box;top: 0;bottom: 0;left: 50%;z-index: 0;}#sk-container-id-1 div.sk-serial {display: flex;flex-direction: column;align-items: center;background-color: white;padding-right: 0.2em;padding-left: 0.2em;position: relative;}#sk-container-id-1 div.sk-item {position: relative;z-index: 1;}#sk-container-id-1 div.sk-parallel {display: flex;align-items: stretch;justify-content: center;background-color: white;position: relative;}#sk-container-id-1 div.sk-item::before, #sk-container-id-1 div.sk-parallel-item::before {content: \"\";position: absolute;border-left: 1px solid gray;box-sizing: border-box;top: 0;bottom: 0;left: 50%;z-index: -1;}#sk-container-id-1 div.sk-parallel-item {display: flex;flex-direction: column;z-index: 1;position: relative;background-color: white;}#sk-container-id-1 div.sk-parallel-item:first-child::after {align-self: flex-end;width: 50%;}#sk-container-id-1 div.sk-parallel-item:last-child::after {align-self: flex-start;width: 50%;}#sk-container-id-1 div.sk-parallel-item:only-child::after {width: 0;}#sk-container-id-1 div.sk-dashed-wrapped {border: 1px dashed gray;margin: 0 0.4em 0.5em 0.4em;box-sizing: border-box;padding-bottom: 0.4em;background-color: white;}#sk-container-id-1 div.sk-label label {font-family: monospace;font-weight: bold;display: inline-block;line-height: 1.2em;}#sk-container-id-1 div.sk-label-container {text-align: center;}#sk-container-id-1 div.sk-container {/* jupyter's `normalize.less` sets `[hidden] { display: none; }` but bootstrap.min.css set `[hidden] { display: none !important; }` so we also need the `!important` here to be able to override the default hidden behavior on the sphinx rendered scikit-learn.org. See: https://github.com/scikit-learn/scikit-learn/issues/21755 */display: inline-block !important;position: relative;}#sk-container-id-1 div.sk-text-repr-fallback {display: none;}</style><div id=\"sk-container-id-1\" class=\"sk-top-container\"><div class=\"sk-text-repr-fallback\"><pre>DecisionTreeClassifier()</pre><b>In a Jupyter environment, please rerun this cell to show the HTML representation or trust the notebook. <br />On GitHub, the HTML representation is unable to render, please try loading this page with nbviewer.org.</b></div><div class=\"sk-container\" hidden><div class=\"sk-item\"><div class=\"sk-estimator sk-toggleable\"><input class=\"sk-toggleable__control sk-hidden--visually\" id=\"sk-estimator-id-1\" type=\"checkbox\" checked><label for=\"sk-estimator-id-1\" class=\"sk-toggleable__label sk-toggleable__label-arrow\">DecisionTreeClassifier</label><div class=\"sk-toggleable__content\"><pre>DecisionTreeClassifier()</pre></div></div></div></div></div>"
      ],
      "text/plain": [
       "DecisionTreeClassifier()"
      ]
     },
     "execution_count": 17,
     "metadata": {},
     "output_type": "execute_result"
    }
   ],
   "source": [
    "# create the object\n",
    "tree = DecisionTreeClassifier() ###here is where max_depth would go\n",
    "tree"
   ]
  },
  {
   "cell_type": "code",
   "execution_count": 18,
   "id": "e4b88302-c272-493d-bbfd-2cb42234790e",
   "metadata": {
    "tags": []
   },
   "outputs": [
    {
     "data": {
      "text/html": [
       "<style>#sk-container-id-2 {color: black;}#sk-container-id-2 pre{padding: 0;}#sk-container-id-2 div.sk-toggleable {background-color: white;}#sk-container-id-2 label.sk-toggleable__label {cursor: pointer;display: block;width: 100%;margin-bottom: 0;padding: 0.3em;box-sizing: border-box;text-align: center;}#sk-container-id-2 label.sk-toggleable__label-arrow:before {content: \"▸\";float: left;margin-right: 0.25em;color: #696969;}#sk-container-id-2 label.sk-toggleable__label-arrow:hover:before {color: black;}#sk-container-id-2 div.sk-estimator:hover label.sk-toggleable__label-arrow:before {color: black;}#sk-container-id-2 div.sk-toggleable__content {max-height: 0;max-width: 0;overflow: hidden;text-align: left;background-color: #f0f8ff;}#sk-container-id-2 div.sk-toggleable__content pre {margin: 0.2em;color: black;border-radius: 0.25em;background-color: #f0f8ff;}#sk-container-id-2 input.sk-toggleable__control:checked~div.sk-toggleable__content {max-height: 200px;max-width: 100%;overflow: auto;}#sk-container-id-2 input.sk-toggleable__control:checked~label.sk-toggleable__label-arrow:before {content: \"▾\";}#sk-container-id-2 div.sk-estimator input.sk-toggleable__control:checked~label.sk-toggleable__label {background-color: #d4ebff;}#sk-container-id-2 div.sk-label input.sk-toggleable__control:checked~label.sk-toggleable__label {background-color: #d4ebff;}#sk-container-id-2 input.sk-hidden--visually {border: 0;clip: rect(1px 1px 1px 1px);clip: rect(1px, 1px, 1px, 1px);height: 1px;margin: -1px;overflow: hidden;padding: 0;position: absolute;width: 1px;}#sk-container-id-2 div.sk-estimator {font-family: monospace;background-color: #f0f8ff;border: 1px dotted black;border-radius: 0.25em;box-sizing: border-box;margin-bottom: 0.5em;}#sk-container-id-2 div.sk-estimator:hover {background-color: #d4ebff;}#sk-container-id-2 div.sk-parallel-item::after {content: \"\";width: 100%;border-bottom: 1px solid gray;flex-grow: 1;}#sk-container-id-2 div.sk-label:hover label.sk-toggleable__label {background-color: #d4ebff;}#sk-container-id-2 div.sk-serial::before {content: \"\";position: absolute;border-left: 1px solid gray;box-sizing: border-box;top: 0;bottom: 0;left: 50%;z-index: 0;}#sk-container-id-2 div.sk-serial {display: flex;flex-direction: column;align-items: center;background-color: white;padding-right: 0.2em;padding-left: 0.2em;position: relative;}#sk-container-id-2 div.sk-item {position: relative;z-index: 1;}#sk-container-id-2 div.sk-parallel {display: flex;align-items: stretch;justify-content: center;background-color: white;position: relative;}#sk-container-id-2 div.sk-item::before, #sk-container-id-2 div.sk-parallel-item::before {content: \"\";position: absolute;border-left: 1px solid gray;box-sizing: border-box;top: 0;bottom: 0;left: 50%;z-index: -1;}#sk-container-id-2 div.sk-parallel-item {display: flex;flex-direction: column;z-index: 1;position: relative;background-color: white;}#sk-container-id-2 div.sk-parallel-item:first-child::after {align-self: flex-end;width: 50%;}#sk-container-id-2 div.sk-parallel-item:last-child::after {align-self: flex-start;width: 50%;}#sk-container-id-2 div.sk-parallel-item:only-child::after {width: 0;}#sk-container-id-2 div.sk-dashed-wrapped {border: 1px dashed gray;margin: 0 0.4em 0.5em 0.4em;box-sizing: border-box;padding-bottom: 0.4em;background-color: white;}#sk-container-id-2 div.sk-label label {font-family: monospace;font-weight: bold;display: inline-block;line-height: 1.2em;}#sk-container-id-2 div.sk-label-container {text-align: center;}#sk-container-id-2 div.sk-container {/* jupyter's `normalize.less` sets `[hidden] { display: none; }` but bootstrap.min.css set `[hidden] { display: none !important; }` so we also need the `!important` here to be able to override the default hidden behavior on the sphinx rendered scikit-learn.org. See: https://github.com/scikit-learn/scikit-learn/issues/21755 */display: inline-block !important;position: relative;}#sk-container-id-2 div.sk-text-repr-fallback {display: none;}</style><div id=\"sk-container-id-2\" class=\"sk-top-container\"><div class=\"sk-text-repr-fallback\"><pre>DecisionTreeClassifier()</pre><b>In a Jupyter environment, please rerun this cell to show the HTML representation or trust the notebook. <br />On GitHub, the HTML representation is unable to render, please try loading this page with nbviewer.org.</b></div><div class=\"sk-container\" hidden><div class=\"sk-item\"><div class=\"sk-estimator sk-toggleable\"><input class=\"sk-toggleable__control sk-hidden--visually\" id=\"sk-estimator-id-2\" type=\"checkbox\" checked><label for=\"sk-estimator-id-2\" class=\"sk-toggleable__label sk-toggleable__label-arrow\">DecisionTreeClassifier</label><div class=\"sk-toggleable__content\"><pre>DecisionTreeClassifier()</pre></div></div></div></div></div>"
      ],
      "text/plain": [
       "DecisionTreeClassifier()"
      ]
     },
     "execution_count": 18,
     "metadata": {},
     "output_type": "execute_result"
    }
   ],
   "source": [
    "# fit the object\n",
    "tree.fit(X_train, y_train) #fit only the TRAIN DATA!"
   ]
  },
  {
   "cell_type": "code",
   "execution_count": 41,
   "id": "496486f5-a665-4a7f-9d97-626c04f18a2d",
   "metadata": {
    "tags": []
   },
   "outputs": [
    {
     "name": "stdout",
     "output_type": "stream",
     "text": [
      "(427,)\n"
     ]
    },
    {
     "data": {
      "text/plain": [
       "array([0, 0, 0, 0, 1, 1, 1, 0, 0, 0])"
      ]
     },
     "execution_count": 41,
     "metadata": {},
     "output_type": "execute_result"
    }
   ],
   "source": [
    "# store my predicted values\n",
    "y_pred = tree.predict(X_train)\n",
    "print(y_pred.shape)\n",
    "\n",
    "y_pred[:10]"
   ]
  },
  {
   "cell_type": "markdown",
   "id": "d76221d5-855b-4460-8b99-3e8ca2c306ee",
   "metadata": {},
   "source": [
    "## 3. Evaluate your in-sample results using the model score, confusion matrix, and classification report."
   ]
  },
  {
   "cell_type": "code",
   "execution_count": 20,
   "id": "e5b59482-b85c-4df8-b7a6-c55b9e45baab",
   "metadata": {
    "tags": []
   },
   "outputs": [
    {
     "data": {
      "text/plain": [
       "0.990632318501171"
      ]
     },
     "execution_count": 20,
     "metadata": {},
     "output_type": "execute_result"
    }
   ],
   "source": [
    "#accuracy score\n",
    "tree.score(X_train, y_train)"
   ]
  },
  {
   "cell_type": "code",
   "execution_count": 21,
   "id": "fd50ea49-fc83-4ebc-b3db-649430d48e98",
   "metadata": {
    "tags": []
   },
   "outputs": [
    {
     "data": {
      "text/plain": [
       "array([[254,   0],\n",
       "       [  4, 169]])"
      ]
     },
     "execution_count": 21,
     "metadata": {},
     "output_type": "execute_result"
    }
   ],
   "source": [
    "#not misty's favorite\n",
    "confusion_matrix(y_train, y_pred) #rows, columns"
   ]
  },
  {
   "cell_type": "code",
   "execution_count": 22,
   "id": "69e54da9-1867-46b3-aefb-e1572866a354",
   "metadata": {
    "tags": []
   },
   "outputs": [
    {
     "data": {
      "text/html": [
       "<div>\n",
       "<style scoped>\n",
       "    .dataframe tbody tr th:only-of-type {\n",
       "        vertical-align: middle;\n",
       "    }\n",
       "\n",
       "    .dataframe tbody tr th {\n",
       "        vertical-align: top;\n",
       "    }\n",
       "\n",
       "    .dataframe thead th {\n",
       "        text-align: right;\n",
       "    }\n",
       "</style>\n",
       "<table border=\"1\" class=\"dataframe\">\n",
       "  <thead>\n",
       "    <tr style=\"text-align: right;\">\n",
       "      <th>pred</th>\n",
       "      <th>0</th>\n",
       "      <th>1</th>\n",
       "    </tr>\n",
       "    <tr>\n",
       "      <th>actual</th>\n",
       "      <th></th>\n",
       "      <th></th>\n",
       "    </tr>\n",
       "  </thead>\n",
       "  <tbody>\n",
       "    <tr>\n",
       "      <th>0</th>\n",
       "      <td>254</td>\n",
       "      <td>0</td>\n",
       "    </tr>\n",
       "    <tr>\n",
       "      <th>1</th>\n",
       "      <td>4</td>\n",
       "      <td>169</td>\n",
       "    </tr>\n",
       "  </tbody>\n",
       "</table>\n",
       "</div>"
      ],
      "text/plain": [
       "pred      0    1\n",
       "actual          \n",
       "0       254    0\n",
       "1         4  169"
      ]
     },
     "execution_count": 22,
     "metadata": {},
     "output_type": "execute_result"
    }
   ],
   "source": [
    "# Misty preferred\n",
    "# columns are predicted, rows are actual values\n",
    "counts = pd.crosstab(y_train, y_pred, rownames=['actual'], colnames=['pred'])\n",
    "counts"
   ]
  },
  {
   "cell_type": "code",
   "execution_count": 23,
   "id": "17bb12b2-5a7d-4739-a99c-c22b60f2fc16",
   "metadata": {
    "tags": []
   },
   "outputs": [
    {
     "name": "stdout",
     "output_type": "stream",
     "text": [
      "              precision    recall  f1-score   support\n",
      "\n",
      "           0       0.98      1.00      0.99       254\n",
      "           1       1.00      0.98      0.99       173\n",
      "\n",
      "    accuracy                           0.99       427\n",
      "   macro avg       0.99      0.99      0.99       427\n",
      "weighted avg       0.99      0.99      0.99       427\n",
      "\n"
     ]
    }
   ],
   "source": [
    "print(classification_report(y_train, y_pred))"
   ]
  },
  {
   "cell_type": "markdown",
   "id": "5fdd6982-85d8-48e0-a6ab-8f1f24dc45da",
   "metadata": {},
   "source": [
    "## 4. Compute: Accuracy, true positive rate, false positive rate, true negative rate, false negative rate, precision, recall, f1-score, and support."
   ]
  },
  {
   "cell_type": "markdown",
   "id": "7305ee3d-0615-4193-a1f0-7c71b2871a60",
   "metadata": {},
   "source": [
    "positive = 1 (survived)"
   ]
  },
  {
   "cell_type": "code",
   "execution_count": 24,
   "id": "a1447a8a-e072-4614-b117-c9bc05a6694d",
   "metadata": {
    "tags": []
   },
   "outputs": [
    {
     "data": {
      "text/html": [
       "<div>\n",
       "<style scoped>\n",
       "    .dataframe tbody tr th:only-of-type {\n",
       "        vertical-align: middle;\n",
       "    }\n",
       "\n",
       "    .dataframe tbody tr th {\n",
       "        vertical-align: top;\n",
       "    }\n",
       "\n",
       "    .dataframe thead th {\n",
       "        text-align: right;\n",
       "    }\n",
       "</style>\n",
       "<table border=\"1\" class=\"dataframe\">\n",
       "  <thead>\n",
       "    <tr style=\"text-align: right;\">\n",
       "      <th>pred</th>\n",
       "      <th>0</th>\n",
       "      <th>1</th>\n",
       "    </tr>\n",
       "    <tr>\n",
       "      <th>actual</th>\n",
       "      <th></th>\n",
       "      <th></th>\n",
       "    </tr>\n",
       "  </thead>\n",
       "  <tbody>\n",
       "    <tr>\n",
       "      <th>0</th>\n",
       "      <td>254</td>\n",
       "      <td>0</td>\n",
       "    </tr>\n",
       "    <tr>\n",
       "      <th>1</th>\n",
       "      <td>4</td>\n",
       "      <td>169</td>\n",
       "    </tr>\n",
       "  </tbody>\n",
       "</table>\n",
       "</div>"
      ],
      "text/plain": [
       "pred      0    1\n",
       "actual          \n",
       "0       254    0\n",
       "1         4  169"
      ]
     },
     "execution_count": 24,
     "metadata": {},
     "output_type": "execute_result"
    }
   ],
   "source": [
    "# columns are predicted, rows are actual values\n",
    "counts = pd.crosstab(y_train, y_pred, rownames=['actual'], colnames=['pred'])\n",
    "counts"
   ]
  },
  {
   "cell_type": "code",
   "execution_count": 25,
   "id": "973fb86b-1324-4904-b707-b46f5f2acbae",
   "metadata": {
    "tags": []
   },
   "outputs": [],
   "source": [
    "tp = counts.iloc[1,1]\n",
    "tn = counts.iloc[0,0]\n",
    "fp = counts.iloc[0,1]\n",
    "fn = counts.iloc[1,0]"
   ]
  },
  {
   "cell_type": "code",
   "execution_count": 26,
   "id": "42256809-48be-47bb-8baa-5dc081fc0d6c",
   "metadata": {
    "tags": []
   },
   "outputs": [
    {
     "data": {
      "text/plain": [
       "(169, 254, 0, 4)"
      ]
     },
     "execution_count": 26,
     "metadata": {},
     "output_type": "execute_result"
    }
   ],
   "source": [
    "tp, tn, fp, fn"
   ]
  },
  {
   "cell_type": "code",
   "execution_count": 27,
   "id": "6dd90ce3-1292-44cb-a9a8-717ffc172b80",
   "metadata": {
    "tags": []
   },
   "outputs": [],
   "source": [
    "def compute_class_metrics(y_train, y_pred):\n",
    "    \n",
    "    counts = pd.crosstab(y_train, y_pred)\n",
    "    TP = counts.iloc[1,1]\n",
    "    TN = counts.iloc[0,0]\n",
    "    FP = counts.iloc[0,1]\n",
    "    FN = counts.iloc[1,0]\n",
    "    \n",
    "    \n",
    "    all_ = (TP + TN + FP + FN)\n",
    "\n",
    "    accuracy = (TP + TN) / all_\n",
    "\n",
    "    TPR = recall = TP / (TP + FN)\n",
    "    FPR = FP / (FP + TN)\n",
    "\n",
    "    TNR = TN / (FP + TN)\n",
    "    FNR = FN / (FN + TP)\n",
    "\n",
    "    precision =  TP / (TP + FP)\n",
    "    f1 =  2 * ((precision * recall) / ( precision + recall))\n",
    "\n",
    "    support_pos = TP + FN\n",
    "    support_neg = FP + TN\n",
    "    \n",
    "    print(f\"Accuracy: {accuracy}\\n\")\n",
    "    print(f\"True Positive Rate/Sensitivity/Recall/Power: {TPR}\")\n",
    "    print(f\"False Positive Rate/False Alarm Ratio/Fall-out: {FPR}\")\n",
    "    print(f\"True Negative Rate/Specificity/Selectivity: {TNR}\")\n",
    "    print(f\"False Negative Rate/Miss Rate: {FNR}\\n\")\n",
    "    print(f\"Precision/PPV: {precision}\")\n",
    "    print(f\"F1 Score: {f1}\\n\")\n",
    "    print(f\"Support (0): {support_pos}\")\n",
    "    print(f\"Support (1): {support_neg}\")"
   ]
  },
  {
   "cell_type": "code",
   "execution_count": 30,
   "id": "d5d0db36-01dd-4c1a-9feb-f50209d7ec5b",
   "metadata": {
    "tags": []
   },
   "outputs": [
    {
     "name": "stdout",
     "output_type": "stream",
     "text": [
      "Accuracy: 0.990632318501171\n",
      "\n",
      "True Positive Rate/Sensitivity/Recall/Power: 0.976878612716763\n",
      "False Positive Rate/False Alarm Ratio/Fall-out: 0.0\n",
      "True Negative Rate/Specificity/Selectivity: 1.0\n",
      "False Negative Rate/Miss Rate: 0.023121387283236993\n",
      "\n",
      "Precision/PPV: 1.0\n",
      "F1 Score: 0.9883040935672515\n",
      "\n",
      "Support (0): 173\n",
      "Support (1): 254\n"
     ]
    }
   ],
   "source": [
    "compute_class_metrics(y_train, y_pred)"
   ]
  },
  {
   "cell_type": "code",
   "execution_count": 24,
   "id": "8d1cab55-0366-493f-9ee4-b6ae175aacde",
   "metadata": {
    "tags": []
   },
   "outputs": [
    {
     "data": {
      "text/html": [
       "<div>\n",
       "<style scoped>\n",
       "    .dataframe tbody tr th:only-of-type {\n",
       "        vertical-align: middle;\n",
       "    }\n",
       "\n",
       "    .dataframe tbody tr th {\n",
       "        vertical-align: top;\n",
       "    }\n",
       "\n",
       "    .dataframe thead th {\n",
       "        text-align: right;\n",
       "    }\n",
       "</style>\n",
       "<table border=\"1\" class=\"dataframe\">\n",
       "  <thead>\n",
       "    <tr style=\"text-align: right;\">\n",
       "      <th>col_0</th>\n",
       "      <th>0</th>\n",
       "      <th>1</th>\n",
       "    </tr>\n",
       "    <tr>\n",
       "      <th>survived</th>\n",
       "      <th></th>\n",
       "      <th></th>\n",
       "    </tr>\n",
       "  </thead>\n",
       "  <tbody>\n",
       "    <tr>\n",
       "      <th>0</th>\n",
       "      <td>1.000000</td>\n",
       "      <td>0.000000</td>\n",
       "    </tr>\n",
       "    <tr>\n",
       "      <th>1</th>\n",
       "      <td>0.023121</td>\n",
       "      <td>0.976879</td>\n",
       "    </tr>\n",
       "  </tbody>\n",
       "</table>\n",
       "</div>"
      ],
      "text/plain": [
       "col_0            0         1\n",
       "survived                    \n",
       "0         1.000000  0.000000\n",
       "1         0.023121  0.976879"
      ]
     },
     "execution_count": 24,
     "metadata": {},
     "output_type": "execute_result"
    }
   ],
   "source": [
    "### Kelsey found that normalize = True gives us metrics on the rates the question asks for\n",
    "### Misty found that normalize = 'index' is the way that it'll calculate it correctly! very handy, originally made a function\n",
    "\n",
    "pd.crosstab(y_train, y_pred, normalize='index')"
   ]
  },
  {
   "cell_type": "markdown",
   "id": "8f6470e2-4c19-47c4-9057-cf54f73d30b9",
   "metadata": {},
   "source": [
    "## 5. Run through steps 2-4 using a different max_depth value."
   ]
  },
  {
   "cell_type": "code",
   "execution_count": 25,
   "id": "1754acf1-d20c-42bb-9fd6-00ece7597f52",
   "metadata": {
    "tags": []
   },
   "outputs": [
    {
     "name": "stdout",
     "output_type": "stream",
     "text": [
      "1\n",
      "2\n",
      "3\n",
      "4\n",
      "5\n",
      "6\n",
      "7\n",
      "8\n",
      "9\n",
      "10\n",
      "11\n",
      "12\n",
      "13\n",
      "14\n",
      "15\n",
      "16\n",
      "17\n",
      "18\n",
      "19\n",
      "20\n"
     ]
    }
   ],
   "source": [
    "for x in range(1, 21):\n",
    "    print(x)"
   ]
  },
  {
   "cell_type": "code",
   "execution_count": 26,
   "id": "4722facb-681d-46c8-8e0d-01e34f6e3111",
   "metadata": {
    "tags": []
   },
   "outputs": [
    {
     "name": "stdout",
     "output_type": "stream",
     "text": [
      "with a max depth of 1, the accuracy is 0.79\n",
      "with a max depth of 2, the accuracy is 0.8\n",
      "with a max depth of 3, the accuracy is 0.81\n",
      "with a max depth of 4, the accuracy is 0.84\n",
      "with a max depth of 5, the accuracy is 0.85\n",
      "with a max depth of 6, the accuracy is 0.87\n",
      "with a max depth of 7, the accuracy is 0.89\n",
      "with a max depth of 8, the accuracy is 0.92\n",
      "with a max depth of 9, the accuracy is 0.93\n",
      "with a max depth of 10, the accuracy is 0.95\n",
      "with a max depth of 11, the accuracy is 0.96\n",
      "with a max depth of 12, the accuracy is 0.97\n",
      "with a max depth of 13, the accuracy is 0.98\n",
      "with a max depth of 14, the accuracy is 0.99\n",
      "with a max depth of 15, the accuracy is 0.99\n",
      "with a max depth of 16, the accuracy is 0.99\n",
      "with a max depth of 17, the accuracy is 0.99\n",
      "with a max depth of 18, the accuracy is 0.99\n",
      "with a max depth of 19, the accuracy is 0.99\n",
      "with a max depth of 20, the accuracy is 0.99\n"
     ]
    }
   ],
   "source": [
    "for x in range(1, 21):\n",
    "    #create the object\n",
    "    tree = DecisionTreeClassifier(max_depth=x)\n",
    "\n",
    "    #fit the object\n",
    "    tree.fit(X_train, y_train) #fit only the TRAIN DATA!\n",
    "    \n",
    "    acc = tree.score(X_train, y_train)\n",
    "    \n",
    "    print(f'with a max depth of {x}, the accuracy is {round(acc,2)}')"
   ]
  },
  {
   "cell_type": "markdown",
   "id": "dd59a7f5-94f9-4fc0-b1c0-bb16563c3124",
   "metadata": {},
   "source": [
    "## 6. Which model performs better on your in-sample data?"
   ]
  },
  {
   "cell_type": "markdown",
   "id": "30c28ac0-f06b-4e9d-8316-013d96f00e0b",
   "metadata": {},
   "source": [
    "> model with max depth of 14 is best!"
   ]
  },
  {
   "cell_type": "markdown",
   "id": "d9c981c9-a545-418e-a167-eded4bc4a918",
   "metadata": {},
   "source": [
    "## 7. Which model performs best on your out-of-sample data, the validate set?"
   ]
  },
  {
   "cell_type": "code",
   "execution_count": 27,
   "id": "66f2fd75-260f-4a90-ae18-dd4e70e101d7",
   "metadata": {
    "tags": []
   },
   "outputs": [
    {
     "name": "stdout",
     "output_type": "stream",
     "text": [
      "with a max depth of 1, the accuracy train = 0.79), val = 0.77\n",
      "with a max depth of 2, the accuracy train = 0.8), val = 0.79\n",
      "with a max depth of 3, the accuracy train = 0.81), val = 0.8\n",
      "with a max depth of 4, the accuracy train = 0.84), val = 0.83\n",
      "with a max depth of 5, the accuracy train = 0.85), val = 0.8\n",
      "with a max depth of 6, the accuracy train = 0.87), val = 0.77\n",
      "with a max depth of 7, the accuracy train = 0.89), val = 0.77\n",
      "with a max depth of 8, the accuracy train = 0.91), val = 0.73\n",
      "with a max depth of 9, the accuracy train = 0.93), val = 0.74\n",
      "with a max depth of 10, the accuracy train = 0.94), val = 0.75\n",
      "with a max depth of 11, the accuracy train = 0.96), val = 0.72\n",
      "with a max depth of 12, the accuracy train = 0.97), val = 0.75\n",
      "with a max depth of 13, the accuracy train = 0.98), val = 0.72\n"
     ]
    }
   ],
   "source": [
    "for x in range(1, 14):\n",
    "    #create the object\n",
    "    tree = DecisionTreeClassifier(max_depth=x)\n",
    "\n",
    "    #fit the object\n",
    "    tree.fit(X_train, y_train) #fit only the TRAIN DATA!\n",
    "    \n",
    "    #calculate the accuracy for train\n",
    "    acc = tree.score(X_train, y_train)\n",
    "    \n",
    "    #calculate the accuracy for validate\n",
    "    acc_v = tree.score(X_validate, y_validate)\n",
    "\n",
    "    \n",
    "    print(f'with a max depth of {x}, the accuracy train = {round(acc,2)}), val = {round(acc_v,2)}')"
   ]
  },
  {
   "cell_type": "markdown",
   "id": "4c0e1b4f-c855-49be-9db1-b5e82dbc39de",
   "metadata": {},
   "source": [
    "> many models overfit, the max depth of 4 performs best!"
   ]
  },
  {
   "cell_type": "markdown",
   "id": "bea79ce9-e4fa-4eee-a26a-569c6866ca2f",
   "metadata": {},
   "source": [
    "### Telco Dataset (optional)"
   ]
  },
  {
   "cell_type": "markdown",
   "id": "c074741a-14fa-4028-b5c4-a1d0aee8ef50",
   "metadata": {},
   "source": [
    "#### 1. Work through these same exercises using the Telco dataset."
   ]
  },
  {
   "cell_type": "markdown",
   "id": "ed9a2d5e-3d97-4d20-b7b4-ddfa54e8493d",
   "metadata": {},
   "source": [
    "#### 2. Experiment with this model on other datasets with a higher number of output classes."
   ]
  }
 ],
 "metadata": {
  "kernelspec": {
   "display_name": "Python 3 (ipykernel)",
   "language": "python",
   "name": "python3"
  },
  "language_info": {
   "codemirror_mode": {
    "name": "ipython",
    "version": 3
   },
   "file_extension": ".py",
   "mimetype": "text/x-python",
   "name": "python",
   "nbconvert_exporter": "python",
   "pygments_lexer": "ipython3",
   "version": "3.11.5"
  }
 },
 "nbformat": 4,
 "nbformat_minor": 5
}
