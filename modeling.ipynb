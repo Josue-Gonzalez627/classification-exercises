{
 "cells": [
  {
   "cell_type": "markdown",
   "id": "f958b30f",
   "metadata": {},
   "source": [
    "# Preprocessing Exercises"
   ]
  },
  {
   "cell_type": "code",
   "execution_count": 1,
   "id": "1b32a8b1",
   "metadata": {
    "tags": []
   },
   "outputs": [],
   "source": [
    "#data manipulation\n",
    "import pandas as pd\n",
    "import numpy as np\n",
    "\n",
    "#stats is great\n",
    "from scipy import stats\n",
    "\n",
    "from sklearn.model_selection import train_test_split\n",
    "\n",
    "#my own files with my own functions\n",
    "import acquire as a\n",
    "import prepare as p\n",
    "\n",
    "import os\n",
    "import env"
   ]
  },
  {
   "cell_type": "markdown",
   "id": "98554820",
   "metadata": {},
   "source": [
    "Do these exercises in a notebook called modeling.ipynb first, then transfer the final functions to the model.py file.\n",
    "\n",
    "This work should all be saved in your local classification-exercises repo. Add, commit, and push your changes."
   ]
  },
  {
   "cell_type": "markdown",
   "id": "a94eb6c3",
   "metadata": {},
   "source": [
    "# Using the Titanic dataset"
   ]
  },
  {
   "cell_type": "code",
   "execution_count": 2,
   "id": "a4bba374",
   "metadata": {
    "tags": []
   },
   "outputs": [
    {
     "data": {
      "text/plain": [
       "\u001b[0;31mSignature:\u001b[0m \u001b[0mp\u001b[0m\u001b[0;34m.\u001b[0m\u001b[0msplitting_data\u001b[0m\u001b[0;34m(\u001b[0m\u001b[0mdf\u001b[0m\u001b[0;34m,\u001b[0m \u001b[0mcol\u001b[0m\u001b[0;34m,\u001b[0m \u001b[0mseed\u001b[0m\u001b[0;34m=\u001b[0m\u001b[0;36m123\u001b[0m\u001b[0;34m)\u001b[0m\u001b[0;34m\u001b[0m\u001b[0;34m\u001b[0m\u001b[0m\n",
       "\u001b[0;31mDocstring:\u001b[0m\n",
       "Just like the splitting Titanic function but it can be used for any df now!\n",
       "must provide the df and column. Does not clean it though\n",
       "\u001b[0;31mFile:\u001b[0m      ~/Codeup-Data-Science/classification-exercises/prepare.py\n",
       "\u001b[0;31mType:\u001b[0m      function"
      ]
     },
     "metadata": {},
     "output_type": "display_data"
    }
   ],
   "source": [
    "p.splitting_data?\n",
    "###run it to see details"
   ]
  },
  {
   "cell_type": "markdown",
   "id": "304ffb6d",
   "metadata": {},
   "source": [
    "### 1. Use the function defined in acquire.py to load the Titanic data."
   ]
  },
  {
   "cell_type": "markdown",
   "id": "d771c359",
   "metadata": {},
   "source": [
    "### 2. Use the function defined in prepare.py to prepare the titanic data."
   ]
  },
  {
   "cell_type": "code",
   "execution_count": 3,
   "id": "d1ccf376",
   "metadata": {
    "tags": []
   },
   "outputs": [
    {
     "name": "stdout",
     "output_type": "stream",
     "text": [
      "this file exists, reading csv\n"
     ]
    }
   ],
   "source": [
    "# p.splitting_data(\n",
    "#     p.clean_titanic(a.get_titanic_data()),\n",
    "#     'survived')"
   ]
  },
  {
   "cell_type": "code",
   "execution_count": 3,
   "id": "4bd093a5-2ec4-4266-9d58-32c07c5d5d11",
   "metadata": {
    "tags": []
   },
   "outputs": [
    {
     "name": "stdout",
     "output_type": "stream",
     "text": [
      "this file exists, reading csv\n"
     ]
    }
   ],
   "source": [
    "# grab, prepare, and split our data sets\n",
    "titanic_train, \\\n",
    "titanic_val, \\\n",
    "titanic_test = p.splitting_data(\n",
    "    p.clean_titanic(a.get_titanic_data()),\n",
    "    'survived')"
   ]
  },
  {
   "cell_type": "code",
   "execution_count": 4,
   "id": "4d64c7a3",
   "metadata": {
    "tags": []
   },
   "outputs": [
    {
     "name": "stdout",
     "output_type": "stream",
     "text": [
      "this file exists, reading csv\n"
     ]
    }
   ],
   "source": [
    "# do the same thing for telco\n",
    "telco_train, \\\n",
    "telco_val, \\\n",
    "telco_test = p.splitting_data(\n",
    "    p.prep_telco(a.get_telco_data()),\n",
    "    'churn')"
   ]
  },
  {
   "cell_type": "code",
   "execution_count": 5,
   "id": "62379007-d5d8-4429-b624-144e9c4475c8",
   "metadata": {
    "tags": []
   },
   "outputs": [
    {
     "data": {
      "text/plain": [
       "((4225, 21), (1409, 21), (1409, 21))"
      ]
     },
     "execution_count": 5,
     "metadata": {},
     "output_type": "execute_result"
    }
   ],
   "source": [
    "telco_train.shape, telco_val.shape, telco_test.shape"
   ]
  },
  {
   "cell_type": "code",
   "execution_count": 6,
   "id": "61d38ce9-9632-47b8-bcdd-2a792945606d",
   "metadata": {
    "tags": []
   },
   "outputs": [
    {
     "data": {
      "text/plain": [
       "((427, 10), (142, 10), (143, 10))"
      ]
     },
     "execution_count": 6,
     "metadata": {},
     "output_type": "execute_result"
    }
   ],
   "source": [
    "### remember I added back the age column and removed rows with null values instead\n",
    "titanic_train.shape, titanic_val.shape, titanic_test.shape"
   ]
  },
  {
   "cell_type": "markdown",
   "id": "1ca50bf7",
   "metadata": {
    "tags": []
   },
   "source": [
    "## 3. Encode the categorical columns on train dataset. Create dummy variables of the categorical columns and concatenate them onto the dataframe. Remove the columns they are replacing. Repeat on validate and test."
   ]
  },
  {
   "cell_type": "code",
   "execution_count": 8,
   "id": "f17665c2",
   "metadata": {
    "tags": []
   },
   "outputs": [],
   "source": [
    "# titanic preprocessing:\n",
    "# we saw previously that the things that we need to encode are:\n",
    "# sex (nominal, binary)\n",
    "# and embark_town (nominal, multicategorical/nonbinary)"
   ]
  },
  {
   "cell_type": "code",
   "execution_count": 7,
   "id": "df4d8921",
   "metadata": {
    "tags": []
   },
   "outputs": [
    {
     "data": {
      "text/plain": [
       "702    3\n",
       "199    2\n",
       "108    3\n",
       "872    1\n",
       "827    2\n",
       "      ..\n",
       "640    3\n",
       "476    2\n",
       "217    2\n",
       "67     3\n",
       "452    1\n",
       "Name: pclass, Length: 427, dtype: int64"
      ]
     },
     "execution_count": 7,
     "metadata": {},
     "output_type": "execute_result"
    }
   ],
   "source": [
    "titanic_train.pclass.astype(int)"
   ]
  },
  {
   "cell_type": "code",
   "execution_count": 8,
   "id": "27a5698b",
   "metadata": {
    "tags": []
   },
   "outputs": [
    {
     "name": "stdout",
     "output_type": "stream",
     "text": [
      "<class 'pandas.core.frame.DataFrame'>\n",
      "Index: 427 entries, 702 to 452\n",
      "Data columns (total 10 columns):\n",
      " #   Column        Non-Null Count  Dtype  \n",
      "---  ------        --------------  -----  \n",
      " 0   passenger_id  427 non-null    int64  \n",
      " 1   survived      427 non-null    int64  \n",
      " 2   pclass        427 non-null    object \n",
      " 3   sex           427 non-null    object \n",
      " 4   age           427 non-null    float64\n",
      " 5   sibsp         427 non-null    int64  \n",
      " 6   parch         427 non-null    int64  \n",
      " 7   fare          427 non-null    float64\n",
      " 8   embark_town   427 non-null    object \n",
      " 9   alone         427 non-null    int64  \n",
      "dtypes: float64(2), int64(5), object(3)\n",
      "memory usage: 36.7+ KB\n"
     ]
    }
   ],
   "source": [
    "titanic_train.info()"
   ]
  },
  {
   "cell_type": "code",
   "execution_count": 9,
   "id": "65598ff3",
   "metadata": {
    "tags": []
   },
   "outputs": [],
   "source": [
    "# tidy up the pclass and drop passenger_id:\n",
    "titanic_train.drop(columns='passenger_id')\n",
    "titanic_train['pclass'] = titanic_train['pclass'].astype(int)"
   ]
  },
  {
   "cell_type": "code",
   "execution_count": 10,
   "id": "64e66789",
   "metadata": {
    "tags": []
   },
   "outputs": [],
   "source": [
    "# encoding sex and embark_town,\n",
    "# the only object types we have left:"
   ]
  },
  {
   "cell_type": "code",
   "execution_count": 11,
   "id": "9ac4f10e",
   "metadata": {
    "tags": []
   },
   "outputs": [],
   "source": [
    "# let's assign the output of pd.getdummies into a separate df:\n",
    "titanic_train_encoded_cats = pd.get_dummies(titanic_train[['embark_town', 'sex']],\n",
    "              drop_first=True).astype(int)"
   ]
  },
  {
   "cell_type": "code",
   "execution_count": 12,
   "id": "2ecc2a01",
   "metadata": {
    "tags": []
   },
   "outputs": [],
   "source": [
    "# glue that back into my original df:\n",
    "titanic_preprocessed = pd.concat(\n",
    "    [titanic_train, \n",
    "    titanic_train_encoded_cats],\n",
    "    axis=1).drop(columns=['sex', 'embark_town'])"
   ]
  },
  {
   "cell_type": "code",
   "execution_count": 13,
   "id": "5b85777e",
   "metadata": {
    "tags": []
   },
   "outputs": [
    {
     "data": {
      "text/html": [
       "<div>\n",
       "<style scoped>\n",
       "    .dataframe tbody tr th:only-of-type {\n",
       "        vertical-align: middle;\n",
       "    }\n",
       "\n",
       "    .dataframe tbody tr th {\n",
       "        vertical-align: top;\n",
       "    }\n",
       "\n",
       "    .dataframe thead th {\n",
       "        text-align: right;\n",
       "    }\n",
       "</style>\n",
       "<table border=\"1\" class=\"dataframe\">\n",
       "  <thead>\n",
       "    <tr style=\"text-align: right;\">\n",
       "      <th></th>\n",
       "      <th>passenger_id</th>\n",
       "      <th>survived</th>\n",
       "      <th>pclass</th>\n",
       "      <th>age</th>\n",
       "      <th>sibsp</th>\n",
       "      <th>parch</th>\n",
       "      <th>fare</th>\n",
       "      <th>alone</th>\n",
       "      <th>embark_town_Queenstown</th>\n",
       "      <th>embark_town_Southampton</th>\n",
       "      <th>sex_male</th>\n",
       "    </tr>\n",
       "  </thead>\n",
       "  <tbody>\n",
       "    <tr>\n",
       "      <th>702</th>\n",
       "      <td>702</td>\n",
       "      <td>0</td>\n",
       "      <td>3</td>\n",
       "      <td>18.0</td>\n",
       "      <td>0</td>\n",
       "      <td>1</td>\n",
       "      <td>14.4542</td>\n",
       "      <td>0</td>\n",
       "      <td>0</td>\n",
       "      <td>0</td>\n",
       "      <td>0</td>\n",
       "    </tr>\n",
       "    <tr>\n",
       "      <th>199</th>\n",
       "      <td>199</td>\n",
       "      <td>0</td>\n",
       "      <td>2</td>\n",
       "      <td>24.0</td>\n",
       "      <td>0</td>\n",
       "      <td>0</td>\n",
       "      <td>13.0000</td>\n",
       "      <td>1</td>\n",
       "      <td>0</td>\n",
       "      <td>1</td>\n",
       "      <td>0</td>\n",
       "    </tr>\n",
       "    <tr>\n",
       "      <th>108</th>\n",
       "      <td>108</td>\n",
       "      <td>0</td>\n",
       "      <td>3</td>\n",
       "      <td>38.0</td>\n",
       "      <td>0</td>\n",
       "      <td>0</td>\n",
       "      <td>7.8958</td>\n",
       "      <td>1</td>\n",
       "      <td>0</td>\n",
       "      <td>1</td>\n",
       "      <td>1</td>\n",
       "    </tr>\n",
       "    <tr>\n",
       "      <th>872</th>\n",
       "      <td>872</td>\n",
       "      <td>0</td>\n",
       "      <td>1</td>\n",
       "      <td>33.0</td>\n",
       "      <td>0</td>\n",
       "      <td>0</td>\n",
       "      <td>5.0000</td>\n",
       "      <td>1</td>\n",
       "      <td>0</td>\n",
       "      <td>1</td>\n",
       "      <td>1</td>\n",
       "    </tr>\n",
       "    <tr>\n",
       "      <th>827</th>\n",
       "      <td>827</td>\n",
       "      <td>1</td>\n",
       "      <td>2</td>\n",
       "      <td>1.0</td>\n",
       "      <td>0</td>\n",
       "      <td>2</td>\n",
       "      <td>37.0042</td>\n",
       "      <td>0</td>\n",
       "      <td>0</td>\n",
       "      <td>0</td>\n",
       "      <td>1</td>\n",
       "    </tr>\n",
       "  </tbody>\n",
       "</table>\n",
       "</div>"
      ],
      "text/plain": [
       "     passenger_id  survived  pclass   age  sibsp  parch     fare  alone  \\\n",
       "702           702         0       3  18.0      0      1  14.4542      0   \n",
       "199           199         0       2  24.0      0      0  13.0000      1   \n",
       "108           108         0       3  38.0      0      0   7.8958      1   \n",
       "872           872         0       1  33.0      0      0   5.0000      1   \n",
       "827           827         1       2   1.0      0      2  37.0042      0   \n",
       "\n",
       "     embark_town_Queenstown  embark_town_Southampton  sex_male  \n",
       "702                       0                        0         0  \n",
       "199                       0                        1         0  \n",
       "108                       0                        1         1  \n",
       "872                       0                        1         1  \n",
       "827                       0                        0         1  "
      ]
     },
     "execution_count": 13,
     "metadata": {},
     "output_type": "execute_result"
    }
   ],
   "source": [
    "titanic_preprocessed.head()"
   ]
  },
  {
   "cell_type": "markdown",
   "id": "9caf1e22",
   "metadata": {
    "tags": []
   },
   "source": [
    "## 4. Create a function named preprocess_titanic that accepts the train, validate, and test titanic data, and returns the dataframes ready for modeling."
   ]
  },
  {
   "cell_type": "code",
   "execution_count": 14,
   "id": "0efa6bba",
   "metadata": {
    "tags": []
   },
   "outputs": [],
   "source": [
    "def preprocess_titanic(train_df, val_df, test_df):\n",
    "    '''\n",
    "    preprocess_titanic will take in three pandas dataframes\n",
    "    of our titanic data, expected as cleaned versions of this \n",
    "    titanic data set (see documentation on acquire.py and prepare.py)\n",
    "    \n",
    "    output:\n",
    "    encoded, ML-ready versions of our clean data, with \n",
    "    columns sex and embark_town encoded in the one-hot fashion\n",
    "    return: (pd.DataFrame, pd.DataFrame, pd.DataFrame)\n",
    "    '''\n",
    "    \n",
    "    # with a looping structure:\n",
    "    # for df in [train_df, val_df, test_df]:\n",
    "    #     df.drop(blah blah blah)\n",
    "    #     df['pclass'] = df['pclass'].astype(int)\n",
    "    train_df = train_df.drop(columns='passenger_id')\n",
    "    train_df['pclass'] = train_df['pclass'].astype(int)\n",
    "    val_df = val_df.drop(columns='passenger_id')\n",
    "    val_df['pclass'] = val_df['pclass'].astype(int)\n",
    "    test_df = test_df.drop(columns='passenger_id')\n",
    "    test_df['pclass'] = test_df['pclass'].astype(int)\n",
    "    encoding_var = ['sex', 'embark_town']\n",
    "    encoded_dfs = []\n",
    "    for df in [train_df, val_df, test_df]:\n",
    "        df_encoded_cats = pd.get_dummies(\n",
    "            df[['embark_town', 'sex']],\n",
    "              drop_first=True).astype(int)\n",
    "        encoded_dfs.append(pd.concat(\n",
    "            [df,\n",
    "            df_encoded_cats],\n",
    "            axis=1).drop(columns=['sex', 'embark_town']))\n",
    "    return encoded_dfs"
   ]
  },
  {
   "cell_type": "code",
   "execution_count": 15,
   "id": "670e2759",
   "metadata": {
    "tags": []
   },
   "outputs": [],
   "source": [
    "ttrain_encoded, tval_encoded, ttest_encoded = preprocess_titanic(\n",
    "    titanic_train, \n",
    "    titanic_val, \n",
    "    titanic_test)"
   ]
  },
  {
   "cell_type": "code",
   "execution_count": 16,
   "id": "43402c22",
   "metadata": {
    "tags": []
   },
   "outputs": [],
   "source": [
    "# grabbing info:\n",
    "# for exploration:\n",
    "# splitting_data(clean_titanic(acquire_titanic()))\n",
    "\n",
    "# for modeling:\n",
    "# preprocess_titanic(splitting_data(clean_titanic(acquire_titanic))"
   ]
  },
  {
   "cell_type": "markdown",
   "id": "015b0936",
   "metadata": {},
   "source": [
    "# Using the Telco dataset"
   ]
  },
  {
   "cell_type": "code",
   "execution_count": 35,
   "id": "92c76854",
   "metadata": {
    "tags": []
   },
   "outputs": [
    {
     "name": "stdout",
     "output_type": "stream",
     "text": [
      "<class 'pandas.core.frame.DataFrame'>\n",
      "Index: 4225 entries, 2865 to 5354\n",
      "Data columns (total 23 columns):\n",
      " #   Column                 Non-Null Count  Dtype  \n",
      "---  ------                 --------------  -----  \n",
      " 0   customer_id            4225 non-null   object \n",
      " 1   gender                 4225 non-null   object \n",
      " 2   senior_citizen         4225 non-null   int64  \n",
      " 3   partner                4225 non-null   object \n",
      " 4   dependents             4225 non-null   object \n",
      " 5   tenure                 4225 non-null   int64  \n",
      " 6   phone_service          4225 non-null   object \n",
      " 7   multiple_lines         4225 non-null   object \n",
      " 8   online_security        4225 non-null   object \n",
      " 9   online_backup          4225 non-null   object \n",
      " 10  device_protection      4225 non-null   object \n",
      " 11  tech_support           4225 non-null   object \n",
      " 12  streaming_tv           4225 non-null   object \n",
      " 13  streaming_movies       4225 non-null   object \n",
      " 14  paperless_billing      4225 non-null   object \n",
      " 15  monthly_charges        4225 non-null   float64\n",
      " 16  total_charges          4225 non-null   float64\n",
      " 17  churn                  4225 non-null   object \n",
      " 18  contract_type          4225 non-null   object \n",
      " 19  internet_service_type  3307 non-null   object \n",
      " 20  payment_type           4225 non-null   object \n",
      " 21  is_female              4225 non-null   int64  \n",
      " 22  has_partner            4225 non-null   int64  \n",
      "dtypes: float64(2), int64(4), object(17)\n",
      "memory usage: 792.2+ KB\n"
     ]
    }
   ],
   "source": [
    "telco_train.info()"
   ]
  },
  {
   "cell_type": "code",
   "execution_count": 38,
   "id": "9365e5b1-5c2c-4b05-bae0-1c18ecc779d6",
   "metadata": {
    "tags": []
   },
   "outputs": [
    {
     "data": {
      "text/plain": [
       "2865    1\n",
       "4107    1\n",
       "3453    1\n",
       "923     0\n",
       "2370    0\n",
       "       ..\n",
       "1286    0\n",
       "4999    1\n",
       "6892    0\n",
       "3718    0\n",
       "5354    0\n",
       "Name: senior_citizen, Length: 4225, dtype: int64"
      ]
     },
     "execution_count": 38,
     "metadata": {},
     "output_type": "execute_result"
    }
   ],
   "source": [
    "telco_train.senior_citizen"
   ]
  },
  {
   "cell_type": "markdown",
   "id": "e4503702",
   "metadata": {},
   "source": [
    "### 1. Use the function defined in acquire.py to load the Telco data."
   ]
  },
  {
   "cell_type": "markdown",
   "id": "46c332ec",
   "metadata": {},
   "source": [
    "### 2. Use the function defined in prepare.py to prepare the Telco data."
   ]
  },
  {
   "cell_type": "code",
   "execution_count": 20,
   "id": "9565296d-1129-48fc-b24f-1ee1a3c880a4",
   "metadata": {
    "tags": []
   },
   "outputs": [],
   "source": [
    "# # do the same thing for telco ### DID THIS ABOVE^\n",
    "# telco_train, \\\n",
    "# telco_val, \\\n",
    "# telco_test = p.splitting_data(\n",
    "#     p.prep_telco(a.get_telco_data()),\n",
    "#     'churn')"
   ]
  },
  {
   "cell_type": "markdown",
   "id": "09904311",
   "metadata": {},
   "source": [
    "### 3. Encode the categorical columns on train."
   ]
  },
  {
   "cell_type": "code",
   "execution_count": 18,
   "id": "6e7d1390",
   "metadata": {
    "tags": []
   },
   "outputs": [
    {
     "data": {
      "text/html": [
       "<div>\n",
       "<style scoped>\n",
       "    .dataframe tbody tr th:only-of-type {\n",
       "        vertical-align: middle;\n",
       "    }\n",
       "\n",
       "    .dataframe tbody tr th {\n",
       "        vertical-align: top;\n",
       "    }\n",
       "\n",
       "    .dataframe thead th {\n",
       "        text-align: right;\n",
       "    }\n",
       "</style>\n",
       "<table border=\"1\" class=\"dataframe\">\n",
       "  <thead>\n",
       "    <tr style=\"text-align: right;\">\n",
       "      <th></th>\n",
       "      <th>customer_id</th>\n",
       "      <th>gender</th>\n",
       "      <th>partner</th>\n",
       "      <th>dependents</th>\n",
       "      <th>phone_service</th>\n",
       "      <th>multiple_lines</th>\n",
       "      <th>online_security</th>\n",
       "      <th>online_backup</th>\n",
       "      <th>device_protection</th>\n",
       "      <th>tech_support</th>\n",
       "      <th>streaming_tv</th>\n",
       "      <th>streaming_movies</th>\n",
       "      <th>paperless_billing</th>\n",
       "      <th>total_charges</th>\n",
       "      <th>churn</th>\n",
       "      <th>contract_type</th>\n",
       "      <th>internet_service_type</th>\n",
       "      <th>payment_type</th>\n",
       "    </tr>\n",
       "  </thead>\n",
       "  <tbody>\n",
       "    <tr>\n",
       "      <th>2865</th>\n",
       "      <td>4083-BFNYK</td>\n",
       "      <td>Female</td>\n",
       "      <td>Yes</td>\n",
       "      <td>No</td>\n",
       "      <td>Yes</td>\n",
       "      <td>Yes</td>\n",
       "      <td>Yes</td>\n",
       "      <td>Yes</td>\n",
       "      <td>No</td>\n",
       "      <td>No</td>\n",
       "      <td>No</td>\n",
       "      <td>Yes</td>\n",
       "      <td>No</td>\n",
       "      <td>3591.25</td>\n",
       "      <td>No</td>\n",
       "      <td>One year</td>\n",
       "      <td>Fiber optic</td>\n",
       "      <td>Credit card (automatic)</td>\n",
       "    </tr>\n",
       "    <tr>\n",
       "      <th>4107</th>\n",
       "      <td>5804-LEPIM</td>\n",
       "      <td>Female</td>\n",
       "      <td>No</td>\n",
       "      <td>No</td>\n",
       "      <td>Yes</td>\n",
       "      <td>No</td>\n",
       "      <td>No</td>\n",
       "      <td>No</td>\n",
       "      <td>No</td>\n",
       "      <td>No</td>\n",
       "      <td>No</td>\n",
       "      <td>No</td>\n",
       "      <td>Yes</td>\n",
       "      <td>139.05</td>\n",
       "      <td>Yes</td>\n",
       "      <td>Month-to-month</td>\n",
       "      <td>Fiber optic</td>\n",
       "      <td>Electronic check</td>\n",
       "    </tr>\n",
       "    <tr>\n",
       "      <th>3453</th>\n",
       "      <td>4895-TMWIR</td>\n",
       "      <td>Male</td>\n",
       "      <td>Yes</td>\n",
       "      <td>No</td>\n",
       "      <td>Yes</td>\n",
       "      <td>No</td>\n",
       "      <td>No internet service</td>\n",
       "      <td>No internet service</td>\n",
       "      <td>No internet service</td>\n",
       "      <td>No internet service</td>\n",
       "      <td>No internet service</td>\n",
       "      <td>No internet service</td>\n",
       "      <td>No</td>\n",
       "      <td>214.75</td>\n",
       "      <td>Yes</td>\n",
       "      <td>Month-to-month</td>\n",
       "      <td>NaN</td>\n",
       "      <td>Mailed check</td>\n",
       "    </tr>\n",
       "    <tr>\n",
       "      <th>923</th>\n",
       "      <td>1342-JPNKI</td>\n",
       "      <td>Male</td>\n",
       "      <td>No</td>\n",
       "      <td>No</td>\n",
       "      <td>Yes</td>\n",
       "      <td>Yes</td>\n",
       "      <td>No</td>\n",
       "      <td>No</td>\n",
       "      <td>No</td>\n",
       "      <td>No</td>\n",
       "      <td>Yes</td>\n",
       "      <td>No</td>\n",
       "      <td>Yes</td>\n",
       "      <td>834.1</td>\n",
       "      <td>Yes</td>\n",
       "      <td>Month-to-month</td>\n",
       "      <td>Fiber optic</td>\n",
       "      <td>Bank transfer (automatic)</td>\n",
       "    </tr>\n",
       "    <tr>\n",
       "      <th>2370</th>\n",
       "      <td>3397-AVTKU</td>\n",
       "      <td>Male</td>\n",
       "      <td>No</td>\n",
       "      <td>No</td>\n",
       "      <td>Yes</td>\n",
       "      <td>No</td>\n",
       "      <td>No</td>\n",
       "      <td>Yes</td>\n",
       "      <td>No</td>\n",
       "      <td>No</td>\n",
       "      <td>No</td>\n",
       "      <td>Yes</td>\n",
       "      <td>Yes</td>\n",
       "      <td>2548.55</td>\n",
       "      <td>No</td>\n",
       "      <td>Two year</td>\n",
       "      <td>DSL</td>\n",
       "      <td>Electronic check</td>\n",
       "    </tr>\n",
       "    <tr>\n",
       "      <th>...</th>\n",
       "      <td>...</td>\n",
       "      <td>...</td>\n",
       "      <td>...</td>\n",
       "      <td>...</td>\n",
       "      <td>...</td>\n",
       "      <td>...</td>\n",
       "      <td>...</td>\n",
       "      <td>...</td>\n",
       "      <td>...</td>\n",
       "      <td>...</td>\n",
       "      <td>...</td>\n",
       "      <td>...</td>\n",
       "      <td>...</td>\n",
       "      <td>...</td>\n",
       "      <td>...</td>\n",
       "      <td>...</td>\n",
       "      <td>...</td>\n",
       "      <td>...</td>\n",
       "    </tr>\n",
       "    <tr>\n",
       "      <th>1286</th>\n",
       "      <td>1915-IOFGU</td>\n",
       "      <td>Female</td>\n",
       "      <td>No</td>\n",
       "      <td>No</td>\n",
       "      <td>Yes</td>\n",
       "      <td>No</td>\n",
       "      <td>No</td>\n",
       "      <td>No</td>\n",
       "      <td>No</td>\n",
       "      <td>No</td>\n",
       "      <td>No</td>\n",
       "      <td>No</td>\n",
       "      <td>No</td>\n",
       "      <td>70.5</td>\n",
       "      <td>Yes</td>\n",
       "      <td>Month-to-month</td>\n",
       "      <td>Fiber optic</td>\n",
       "      <td>Electronic check</td>\n",
       "    </tr>\n",
       "    <tr>\n",
       "      <th>4999</th>\n",
       "      <td>7025-WCBNE</td>\n",
       "      <td>Male</td>\n",
       "      <td>No</td>\n",
       "      <td>No</td>\n",
       "      <td>Yes</td>\n",
       "      <td>Yes</td>\n",
       "      <td>No</td>\n",
       "      <td>Yes</td>\n",
       "      <td>No</td>\n",
       "      <td>Yes</td>\n",
       "      <td>No</td>\n",
       "      <td>No</td>\n",
       "      <td>No</td>\n",
       "      <td>2754</td>\n",
       "      <td>No</td>\n",
       "      <td>Two year</td>\n",
       "      <td>DSL</td>\n",
       "      <td>Bank transfer (automatic)</td>\n",
       "    </tr>\n",
       "    <tr>\n",
       "      <th>6892</th>\n",
       "      <td>9788-HNGUT</td>\n",
       "      <td>Male</td>\n",
       "      <td>Yes</td>\n",
       "      <td>No</td>\n",
       "      <td>Yes</td>\n",
       "      <td>Yes</td>\n",
       "      <td>Yes</td>\n",
       "      <td>Yes</td>\n",
       "      <td>Yes</td>\n",
       "      <td>Yes</td>\n",
       "      <td>Yes</td>\n",
       "      <td>Yes</td>\n",
       "      <td>Yes</td>\n",
       "      <td>8594.4</td>\n",
       "      <td>No</td>\n",
       "      <td>Two year</td>\n",
       "      <td>Fiber optic</td>\n",
       "      <td>Credit card (automatic)</td>\n",
       "    </tr>\n",
       "    <tr>\n",
       "      <th>3718</th>\n",
       "      <td>5229-PRWKT</td>\n",
       "      <td>Male</td>\n",
       "      <td>No</td>\n",
       "      <td>No</td>\n",
       "      <td>Yes</td>\n",
       "      <td>Yes</td>\n",
       "      <td>No</td>\n",
       "      <td>No</td>\n",
       "      <td>No</td>\n",
       "      <td>No</td>\n",
       "      <td>No</td>\n",
       "      <td>Yes</td>\n",
       "      <td>Yes</td>\n",
       "      <td>649.65</td>\n",
       "      <td>Yes</td>\n",
       "      <td>Month-to-month</td>\n",
       "      <td>Fiber optic</td>\n",
       "      <td>Electronic check</td>\n",
       "    </tr>\n",
       "    <tr>\n",
       "      <th>5354</th>\n",
       "      <td>7562-UXTPG</td>\n",
       "      <td>Female</td>\n",
       "      <td>No</td>\n",
       "      <td>No</td>\n",
       "      <td>Yes</td>\n",
       "      <td>No</td>\n",
       "      <td>No</td>\n",
       "      <td>No</td>\n",
       "      <td>No</td>\n",
       "      <td>No</td>\n",
       "      <td>No</td>\n",
       "      <td>No</td>\n",
       "      <td>Yes</td>\n",
       "      <td>886.7</td>\n",
       "      <td>No</td>\n",
       "      <td>Month-to-month</td>\n",
       "      <td>Fiber optic</td>\n",
       "      <td>Mailed check</td>\n",
       "    </tr>\n",
       "  </tbody>\n",
       "</table>\n",
       "<p>4225 rows × 18 columns</p>\n",
       "</div>"
      ],
      "text/plain": [
       "     customer_id  gender partner dependents phone_service multiple_lines  \\\n",
       "2865  4083-BFNYK  Female     Yes         No           Yes            Yes   \n",
       "4107  5804-LEPIM  Female      No         No           Yes             No   \n",
       "3453  4895-TMWIR    Male     Yes         No           Yes             No   \n",
       "923   1342-JPNKI    Male      No         No           Yes            Yes   \n",
       "2370  3397-AVTKU    Male      No         No           Yes             No   \n",
       "...          ...     ...     ...        ...           ...            ...   \n",
       "1286  1915-IOFGU  Female      No         No           Yes             No   \n",
       "4999  7025-WCBNE    Male      No         No           Yes            Yes   \n",
       "6892  9788-HNGUT    Male     Yes         No           Yes            Yes   \n",
       "3718  5229-PRWKT    Male      No         No           Yes            Yes   \n",
       "5354  7562-UXTPG  Female      No         No           Yes             No   \n",
       "\n",
       "          online_security        online_backup    device_protection  \\\n",
       "2865                  Yes                  Yes                   No   \n",
       "4107                   No                   No                   No   \n",
       "3453  No internet service  No internet service  No internet service   \n",
       "923                    No                   No                   No   \n",
       "2370                   No                  Yes                   No   \n",
       "...                   ...                  ...                  ...   \n",
       "1286                   No                   No                   No   \n",
       "4999                   No                  Yes                   No   \n",
       "6892                  Yes                  Yes                  Yes   \n",
       "3718                   No                   No                   No   \n",
       "5354                   No                   No                   No   \n",
       "\n",
       "             tech_support         streaming_tv     streaming_movies  \\\n",
       "2865                   No                   No                  Yes   \n",
       "4107                   No                   No                   No   \n",
       "3453  No internet service  No internet service  No internet service   \n",
       "923                    No                  Yes                   No   \n",
       "2370                   No                   No                  Yes   \n",
       "...                   ...                  ...                  ...   \n",
       "1286                   No                   No                   No   \n",
       "4999                  Yes                   No                   No   \n",
       "6892                  Yes                  Yes                  Yes   \n",
       "3718                   No                   No                  Yes   \n",
       "5354                   No                   No                   No   \n",
       "\n",
       "     paperless_billing total_charges churn   contract_type  \\\n",
       "2865                No       3591.25    No        One year   \n",
       "4107               Yes        139.05   Yes  Month-to-month   \n",
       "3453                No        214.75   Yes  Month-to-month   \n",
       "923                Yes         834.1   Yes  Month-to-month   \n",
       "2370               Yes       2548.55    No        Two year   \n",
       "...                ...           ...   ...             ...   \n",
       "1286                No          70.5   Yes  Month-to-month   \n",
       "4999                No          2754    No        Two year   \n",
       "6892               Yes        8594.4    No        Two year   \n",
       "3718               Yes        649.65   Yes  Month-to-month   \n",
       "5354               Yes         886.7    No  Month-to-month   \n",
       "\n",
       "     internet_service_type               payment_type  \n",
       "2865           Fiber optic    Credit card (automatic)  \n",
       "4107           Fiber optic           Electronic check  \n",
       "3453                   NaN               Mailed check  \n",
       "923            Fiber optic  Bank transfer (automatic)  \n",
       "2370                   DSL           Electronic check  \n",
       "...                    ...                        ...  \n",
       "1286           Fiber optic           Electronic check  \n",
       "4999                   DSL  Bank transfer (automatic)  \n",
       "6892           Fiber optic    Credit card (automatic)  \n",
       "3718           Fiber optic           Electronic check  \n",
       "5354           Fiber optic               Mailed check  \n",
       "\n",
       "[4225 rows x 18 columns]"
      ]
     },
     "execution_count": 18,
     "metadata": {},
     "output_type": "execute_result"
    }
   ],
   "source": [
    "telco_train.select_dtypes('O') ### I wonder why total_charges is on Object"
   ]
  },
  {
   "cell_type": "code",
   "execution_count": 19,
   "id": "cdb5d56d-5ea5-4efe-9f63-10d5f5bf2daf",
   "metadata": {
    "tags": []
   },
   "outputs": [],
   "source": [
    "# checking fields for object type:\n",
    "# initialize some empty lists:\n",
    "cat_cols, num_cols = [], []\n",
    "for col in telco_train.columns:\n",
    "    if telco_train[col].dtype == 'O':\n",
    "        cat_cols.append(col)\n",
    "    else:\n",
    "        num_cols.append(col)"
   ]
  },
  {
   "cell_type": "code",
   "execution_count": 20,
   "id": "9a8673ea-0d7f-458e-a762-2d2b804a6865",
   "metadata": {
    "tags": []
   },
   "outputs": [
    {
     "data": {
      "text/plain": [
       "['customer_id',\n",
       " 'gender',\n",
       " 'partner',\n",
       " 'dependents',\n",
       " 'phone_service',\n",
       " 'multiple_lines',\n",
       " 'online_security',\n",
       " 'online_backup',\n",
       " 'device_protection',\n",
       " 'tech_support',\n",
       " 'streaming_tv',\n",
       " 'streaming_movies',\n",
       " 'paperless_billing',\n",
       " 'total_charges',\n",
       " 'churn',\n",
       " 'contract_type',\n",
       " 'internet_service_type',\n",
       " 'payment_type']"
      ]
     },
     "execution_count": 20,
     "metadata": {},
     "output_type": "execute_result"
    }
   ],
   "source": [
    "cat_cols"
   ]
  },
  {
   "cell_type": "code",
   "execution_count": 21,
   "id": "979b80a9-2981-452b-9249-207ad038ea8c",
   "metadata": {
    "tags": []
   },
   "outputs": [],
   "source": [
    "cat_cols.remove('customer_id')"
   ]
  },
  {
   "cell_type": "code",
   "execution_count": 22,
   "id": "184e95dd-f7d6-4676-97ac-89ab0d2c79a4",
   "metadata": {
    "tags": []
   },
   "outputs": [
    {
     "data": {
      "text/plain": [
       "['gender',\n",
       " 'partner',\n",
       " 'dependents',\n",
       " 'phone_service',\n",
       " 'multiple_lines',\n",
       " 'online_security',\n",
       " 'online_backup',\n",
       " 'device_protection',\n",
       " 'tech_support',\n",
       " 'streaming_tv',\n",
       " 'streaming_movies',\n",
       " 'paperless_billing',\n",
       " 'total_charges',\n",
       " 'churn',\n",
       " 'contract_type',\n",
       " 'internet_service_type',\n",
       " 'payment_type']"
      ]
     },
     "execution_count": 22,
     "metadata": {},
     "output_type": "execute_result"
    }
   ],
   "source": [
    "cat_cols"
   ]
  },
  {
   "cell_type": "markdown",
   "id": "fe72db53",
   "metadata": {},
   "source": [
    "#### a. Encode at least one column using .replace\n",
    "* great for binary categories that are nominal: True:False switches"
   ]
  },
  {
   "cell_type": "code",
   "execution_count": 26,
   "id": "ebae618c",
   "metadata": {
    "tags": []
   },
   "outputs": [],
   "source": [
    "# pd.Series.replace?"
   ]
  },
  {
   "cell_type": "code",
   "execution_count": 23,
   "id": "222b83c2",
   "metadata": {
    "tags": []
   },
   "outputs": [],
   "source": [
    "telco_train.loc[:, 'is_female'] = telco_train['gender'].replace({'Female': 1, 'Male': 0})"
   ]
  },
  {
   "cell_type": "code",
   "execution_count": 24,
   "id": "ce1f608a-fc3f-4829-9b4f-24c703cc004e",
   "metadata": {
    "tags": []
   },
   "outputs": [
    {
     "data": {
      "text/plain": [
       "array(['Yes', 'No'], dtype=object)"
      ]
     },
     "execution_count": 24,
     "metadata": {},
     "output_type": "execute_result"
    }
   ],
   "source": [
    "telco_train.partner.unique()"
   ]
  },
  {
   "cell_type": "markdown",
   "id": "049b0cb3",
   "metadata": {},
   "source": [
    "#### b. Encode at least one column using .map\n",
    "* great for binary categories that are nominal: True:False switches"
   ]
  },
  {
   "cell_type": "code",
   "execution_count": 25,
   "id": "54814d64",
   "metadata": {
    "tags": []
   },
   "outputs": [],
   "source": [
    "telco_train.loc[:, 'has_partner'] = telco_train['partner'].map({'Yes': 1, 'No': 0})"
   ]
  },
  {
   "cell_type": "code",
   "execution_count": 26,
   "id": "97e59318",
   "metadata": {
    "tags": []
   },
   "outputs": [],
   "source": [
    "# telco_train = telco_train.set_index('customer_id')\n",
    "# telco_train"
   ]
  },
  {
   "cell_type": "code",
   "execution_count": 27,
   "id": "528aebc3",
   "metadata": {
    "tags": []
   },
   "outputs": [],
   "source": [
    "# debugging for the total_charged that turns out was not already a number:"
   ]
  },
  {
   "cell_type": "code",
   "execution_count": 28,
   "id": "cea0bd0f",
   "metadata": {
    "tags": []
   },
   "outputs": [],
   "source": [
    "telco_train['total_charges'] = (telco_train.total_charges + '0').astype(float)\n",
    "### asigns any missing values 0 before turning them into a float.\n",
    "### existing digits in the form of strings won't be affected by that extra zero (mathematically)"
   ]
  },
  {
   "cell_type": "code",
   "execution_count": 29,
   "id": "82c8a2ae-6eee-4c98-992b-a8c3f63f3b50",
   "metadata": {
    "tags": []
   },
   "outputs": [
    {
     "data": {
      "text/plain": [
       "0.0"
      ]
     },
     "execution_count": 29,
     "metadata": {},
     "output_type": "execute_result"
    }
   ],
   "source": [
    "telco_train.total_charges.min()"
   ]
  },
  {
   "cell_type": "markdown",
   "id": "7b27b0fa",
   "metadata": {},
   "source": [
    "#### c. Encode the rest of the columns by creating dummy variables and concatenating them onto the dataframe."
   ]
  },
  {
   "cell_type": "markdown",
   "id": "1d64ec82",
   "metadata": {
    "tags": []
   },
   "source": [
    "### 4. Repeat the same steps on validate and test."
   ]
  },
  {
   "cell_type": "markdown",
   "id": "1bad2d9c",
   "metadata": {
    "tags": []
   },
   "source": [
    "### 5. Create a function named prep_telco that accepts the train, validate, and test telco data, and returns the dataframes ready for modeling."
   ]
  },
  {
   "cell_type": "code",
   "execution_count": 30,
   "id": "5608cc02",
   "metadata": {
    "tags": []
   },
   "outputs": [],
   "source": [
    "def preprocess_telco(train_df, val_df, test_df):\n",
    "    '''\n",
    "    preprocess_telco will take in three pandas dataframes\n",
    "    of our telco data, expected as cleaned versions of this \n",
    "    telco data set (see documentation on acquire.py and prepare.py)\n",
    "    \n",
    "    output:\n",
    "    encoded, ML-ready versions of our clean data, with \n",
    "    columns sex and embark_town encoded in the one-hot fashion\n",
    "    return: (pd.DataFrame, pd.DataFrame, pd.DataFrame)\n",
    "    '''\n",
    "    # with a looping structure:\n",
    "    # go through the three dfs, set the index to customer id\n",
    "    for df in [train_df, val_df, test_df]:\n",
    "        df = df.set_index('customer_id')\n",
    "        df['total_charges'] = df['total_charges'].astype(float)\n",
    "    # initialize an empty list to see what needs to be encoded:\n",
    "    encoding_vars = []\n",
    "    # loop through the columns to fill encoded_vars with appropriate\n",
    "    # datatype field names\n",
    "    for col in train_df.columns:\n",
    "        if train_df[col].dtype == 'O':\n",
    "            encoding_vars.append(col)\n",
    "    encoding_vars.remove('customer_id')\n",
    "    # initialize an empty list to hold our encoded dataframes:\n",
    "    encoded_dfs = []\n",
    "    for df in [train_df, val_df, test_df]:\n",
    "        df_encoded_cats = pd.get_dummies(\n",
    "            df[encoding_vars],\n",
    "              drop_first=True).astype(int)\n",
    "        encoded_dfs.append(pd.concat(\n",
    "            [df,\n",
    "            df_encoded_cats],\n",
    "            axis=1).drop(columns=encoding_vars))\n",
    "    return encoded_dfs"
   ]
  },
  {
   "cell_type": "code",
   "execution_count": 31,
   "id": "57edf85e",
   "metadata": {
    "tags": []
   },
   "outputs": [],
   "source": [
    "tlco_train_encoded, \\\n",
    "tlco_val_encoded, \\\n",
    "tlco_test_encoded = preprocess_telco(telco_train, telco_val, telco_test)"
   ]
  },
  {
   "cell_type": "code",
   "execution_count": 33,
   "id": "17008071",
   "metadata": {
    "tags": []
   },
   "outputs": [
    {
     "name": "stdout",
     "output_type": "stream",
     "text": [
      "<class 'pandas.core.frame.DataFrame'>\n",
      "Index: 4225 entries, 2865 to 5354\n",
      "Data columns (total 33 columns):\n",
      " #   Column                                 Non-Null Count  Dtype  \n",
      "---  ------                                 --------------  -----  \n",
      " 0   customer_id                            4225 non-null   object \n",
      " 1   senior_citizen                         4225 non-null   int64  \n",
      " 2   tenure                                 4225 non-null   int64  \n",
      " 3   monthly_charges                        4225 non-null   float64\n",
      " 4   total_charges                          4225 non-null   float64\n",
      " 5   is_female                              4225 non-null   int64  \n",
      " 6   has_partner                            4225 non-null   int64  \n",
      " 7   gender_Male                            4225 non-null   int64  \n",
      " 8   partner_Yes                            4225 non-null   int64  \n",
      " 9   dependents_Yes                         4225 non-null   int64  \n",
      " 10  phone_service_Yes                      4225 non-null   int64  \n",
      " 11  multiple_lines_No phone service        4225 non-null   int64  \n",
      " 12  multiple_lines_Yes                     4225 non-null   int64  \n",
      " 13  online_security_No internet service    4225 non-null   int64  \n",
      " 14  online_security_Yes                    4225 non-null   int64  \n",
      " 15  online_backup_No internet service      4225 non-null   int64  \n",
      " 16  online_backup_Yes                      4225 non-null   int64  \n",
      " 17  device_protection_No internet service  4225 non-null   int64  \n",
      " 18  device_protection_Yes                  4225 non-null   int64  \n",
      " 19  tech_support_No internet service       4225 non-null   int64  \n",
      " 20  tech_support_Yes                       4225 non-null   int64  \n",
      " 21  streaming_tv_No internet service       4225 non-null   int64  \n",
      " 22  streaming_tv_Yes                       4225 non-null   int64  \n",
      " 23  streaming_movies_No internet service   4225 non-null   int64  \n",
      " 24  streaming_movies_Yes                   4225 non-null   int64  \n",
      " 25  paperless_billing_Yes                  4225 non-null   int64  \n",
      " 26  churn_Yes                              4225 non-null   int64  \n",
      " 27  contract_type_One year                 4225 non-null   int64  \n",
      " 28  contract_type_Two year                 4225 non-null   int64  \n",
      " 29  internet_service_type_Fiber optic      4225 non-null   int64  \n",
      " 30  payment_type_Credit card (automatic)   4225 non-null   int64  \n",
      " 31  payment_type_Electronic check          4225 non-null   int64  \n",
      " 32  payment_type_Mailed check              4225 non-null   int64  \n",
      "dtypes: float64(2), int64(30), object(1)\n",
      "memory usage: 1.1+ MB\n"
     ]
    }
   ],
   "source": [
    "tlco_train_encoded.info()"
   ]
  },
  {
   "cell_type": "code",
   "execution_count": 34,
   "id": "daee4ec6",
   "metadata": {
    "tags": []
   },
   "outputs": [
    {
     "data": {
      "text/html": [
       "<div>\n",
       "<style scoped>\n",
       "    .dataframe tbody tr th:only-of-type {\n",
       "        vertical-align: middle;\n",
       "    }\n",
       "\n",
       "    .dataframe tbody tr th {\n",
       "        vertical-align: top;\n",
       "    }\n",
       "\n",
       "    .dataframe thead th {\n",
       "        text-align: right;\n",
       "    }\n",
       "</style>\n",
       "<table border=\"1\" class=\"dataframe\">\n",
       "  <thead>\n",
       "    <tr style=\"text-align: right;\">\n",
       "      <th></th>\n",
       "      <th>2865</th>\n",
       "    </tr>\n",
       "  </thead>\n",
       "  <tbody>\n",
       "    <tr>\n",
       "      <th>customer_id</th>\n",
       "      <td>4083-BFNYK</td>\n",
       "    </tr>\n",
       "    <tr>\n",
       "      <th>senior_citizen</th>\n",
       "      <td>1</td>\n",
       "    </tr>\n",
       "    <tr>\n",
       "      <th>tenure</th>\n",
       "      <td>38</td>\n",
       "    </tr>\n",
       "    <tr>\n",
       "      <th>monthly_charges</th>\n",
       "      <td>95.0</td>\n",
       "    </tr>\n",
       "    <tr>\n",
       "      <th>total_charges</th>\n",
       "      <td>3591.25</td>\n",
       "    </tr>\n",
       "    <tr>\n",
       "      <th>is_female</th>\n",
       "      <td>1</td>\n",
       "    </tr>\n",
       "    <tr>\n",
       "      <th>has_partner</th>\n",
       "      <td>1</td>\n",
       "    </tr>\n",
       "    <tr>\n",
       "      <th>gender_Male</th>\n",
       "      <td>0</td>\n",
       "    </tr>\n",
       "    <tr>\n",
       "      <th>partner_Yes</th>\n",
       "      <td>1</td>\n",
       "    </tr>\n",
       "    <tr>\n",
       "      <th>dependents_Yes</th>\n",
       "      <td>0</td>\n",
       "    </tr>\n",
       "    <tr>\n",
       "      <th>phone_service_Yes</th>\n",
       "      <td>1</td>\n",
       "    </tr>\n",
       "    <tr>\n",
       "      <th>multiple_lines_No phone service</th>\n",
       "      <td>0</td>\n",
       "    </tr>\n",
       "    <tr>\n",
       "      <th>multiple_lines_Yes</th>\n",
       "      <td>1</td>\n",
       "    </tr>\n",
       "    <tr>\n",
       "      <th>online_security_No internet service</th>\n",
       "      <td>0</td>\n",
       "    </tr>\n",
       "    <tr>\n",
       "      <th>online_security_Yes</th>\n",
       "      <td>1</td>\n",
       "    </tr>\n",
       "    <tr>\n",
       "      <th>online_backup_No internet service</th>\n",
       "      <td>0</td>\n",
       "    </tr>\n",
       "    <tr>\n",
       "      <th>online_backup_Yes</th>\n",
       "      <td>1</td>\n",
       "    </tr>\n",
       "    <tr>\n",
       "      <th>device_protection_No internet service</th>\n",
       "      <td>0</td>\n",
       "    </tr>\n",
       "    <tr>\n",
       "      <th>device_protection_Yes</th>\n",
       "      <td>0</td>\n",
       "    </tr>\n",
       "    <tr>\n",
       "      <th>tech_support_No internet service</th>\n",
       "      <td>0</td>\n",
       "    </tr>\n",
       "    <tr>\n",
       "      <th>tech_support_Yes</th>\n",
       "      <td>0</td>\n",
       "    </tr>\n",
       "    <tr>\n",
       "      <th>streaming_tv_No internet service</th>\n",
       "      <td>0</td>\n",
       "    </tr>\n",
       "    <tr>\n",
       "      <th>streaming_tv_Yes</th>\n",
       "      <td>0</td>\n",
       "    </tr>\n",
       "    <tr>\n",
       "      <th>streaming_movies_No internet service</th>\n",
       "      <td>0</td>\n",
       "    </tr>\n",
       "    <tr>\n",
       "      <th>streaming_movies_Yes</th>\n",
       "      <td>1</td>\n",
       "    </tr>\n",
       "    <tr>\n",
       "      <th>paperless_billing_Yes</th>\n",
       "      <td>0</td>\n",
       "    </tr>\n",
       "    <tr>\n",
       "      <th>churn_Yes</th>\n",
       "      <td>0</td>\n",
       "    </tr>\n",
       "    <tr>\n",
       "      <th>contract_type_One year</th>\n",
       "      <td>1</td>\n",
       "    </tr>\n",
       "    <tr>\n",
       "      <th>contract_type_Two year</th>\n",
       "      <td>0</td>\n",
       "    </tr>\n",
       "    <tr>\n",
       "      <th>internet_service_type_Fiber optic</th>\n",
       "      <td>1</td>\n",
       "    </tr>\n",
       "    <tr>\n",
       "      <th>payment_type_Credit card (automatic)</th>\n",
       "      <td>1</td>\n",
       "    </tr>\n",
       "    <tr>\n",
       "      <th>payment_type_Electronic check</th>\n",
       "      <td>0</td>\n",
       "    </tr>\n",
       "    <tr>\n",
       "      <th>payment_type_Mailed check</th>\n",
       "      <td>0</td>\n",
       "    </tr>\n",
       "  </tbody>\n",
       "</table>\n",
       "</div>"
      ],
      "text/plain": [
       "                                             2865\n",
       "customer_id                            4083-BFNYK\n",
       "senior_citizen                                  1\n",
       "tenure                                         38\n",
       "monthly_charges                              95.0\n",
       "total_charges                             3591.25\n",
       "is_female                                       1\n",
       "has_partner                                     1\n",
       "gender_Male                                     0\n",
       "partner_Yes                                     1\n",
       "dependents_Yes                                  0\n",
       "phone_service_Yes                               1\n",
       "multiple_lines_No phone service                 0\n",
       "multiple_lines_Yes                              1\n",
       "online_security_No internet service             0\n",
       "online_security_Yes                             1\n",
       "online_backup_No internet service               0\n",
       "online_backup_Yes                               1\n",
       "device_protection_No internet service           0\n",
       "device_protection_Yes                           0\n",
       "tech_support_No internet service                0\n",
       "tech_support_Yes                                0\n",
       "streaming_tv_No internet service                0\n",
       "streaming_tv_Yes                                0\n",
       "streaming_movies_No internet service            0\n",
       "streaming_movies_Yes                            1\n",
       "paperless_billing_Yes                           0\n",
       "churn_Yes                                       0\n",
       "contract_type_One year                          1\n",
       "contract_type_Two year                          0\n",
       "internet_service_type_Fiber optic               1\n",
       "payment_type_Credit card (automatic)            1\n",
       "payment_type_Electronic check                   0\n",
       "payment_type_Mailed check                       0"
      ]
     },
     "execution_count": 34,
     "metadata": {},
     "output_type": "execute_result"
    }
   ],
   "source": [
    "tlco_train_encoded.head(1).T"
   ]
  }
 ],
 "metadata": {
  "kernelspec": {
   "display_name": "Python 3 (ipykernel)",
   "language": "python",
   "name": "python3"
  },
  "language_info": {
   "codemirror_mode": {
    "name": "ipython",
    "version": 3
   },
   "file_extension": ".py",
   "mimetype": "text/x-python",
   "name": "python",
   "nbconvert_exporter": "python",
   "pygments_lexer": "ipython3",
   "version": "3.11.5"
  }
 },
 "nbformat": 4,
 "nbformat_minor": 5
}
